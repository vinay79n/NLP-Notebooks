{
 "cells": [
  {
   "cell_type": "code",
   "execution_count": 1,
   "id": "c8c690e3",
   "metadata": {},
   "outputs": [],
   "source": [
    "import numpy as np\n",
    "import pandas as pd"
   ]
  },
  {
   "cell_type": "markdown",
   "id": "21ab6539",
   "metadata": {},
   "source": [
    "## 1) print average of numbers present in a sentence (this code will not work if some symbol is attached with the number like ' , ' , ' . ' etc we'll have to do tokenization for that which we'll see later on)"
   ]
  },
  {
   "cell_type": "code",
   "execution_count": 2,
   "id": "a2a32edc",
   "metadata": {},
   "outputs": [],
   "source": [
    "sentence = 'They said that their ages are 32 31 and 27 espectively'"
   ]
  },
  {
   "cell_type": "code",
   "execution_count": 3,
   "id": "42f1a15f",
   "metadata": {},
   "outputs": [
    {
     "data": {
      "text/plain": [
       "30.0"
      ]
     },
     "execution_count": 3,
     "metadata": {},
     "output_type": "execute_result"
    }
   ],
   "source": [
    "# num_list = []\n",
    "# for word in sentence.split():\n",
    "#     if word.isdigit():\n",
    "#         num_list.append(int(word))\n",
    "# np.sum(num_list)/len(num_list)\n",
    "avg= [int(word) for word in sentence.split() if word.isdigit()] # int(word) to typecast into integer b'coz \n",
    "                                                                # it is str as it's in a list\n",
    "np.mean(avg)"
   ]
  },
  {
   "cell_type": "markdown",
   "id": "951da646",
   "metadata": {},
   "source": [
    "## 2) print the verage of no. of puntuation symbols present in a sentence"
   ]
  },
  {
   "cell_type": "code",
   "execution_count": 4,
   "id": "a548c7ff",
   "metadata": {},
   "outputs": [],
   "source": [
    "sentence='Hello friend ! How are you ? Welcome to Pune .'"
   ]
  },
  {
   "cell_type": "code",
   "execution_count": 5,
   "id": "92636926",
   "metadata": {},
   "outputs": [
    {
     "name": "stdout",
     "output_type": "stream",
     "text": [
      "['!', '?', '.']\n",
      "\n",
      "Percentage of puntuation marks as present in the sentence as compared to words => 27.27272727272727\n"
     ]
    }
   ],
   "source": [
    "punct = []\n",
    "for word in sentence.split():\n",
    "    if not word.isalpha():\n",
    "        punct.append(word)\n",
    "print(punct)\n",
    "\n",
    "#List Comprehension\n",
    "\n",
    "punct=[word for word in sentence.split() if not word.isalpha()] \n",
    "punct\n",
    "print()\n",
    "print(\"Percentage of puntuation marks as present in the sentence as compared to words =>\"\n",
    "      ,len(punct)/len(sentence.split())* 100)"
   ]
  },
  {
   "cell_type": "code",
   "execution_count": 6,
   "id": "d7748f09",
   "metadata": {
    "scrolled": true
   },
   "outputs": [
    {
     "name": "stdout",
     "output_type": "stream",
     "text": [
      "Help on class str in module builtins:\n",
      "\n",
      "class str(object)\n",
      " |  str(object='') -> str\n",
      " |  str(bytes_or_buffer[, encoding[, errors]]) -> str\n",
      " |  \n",
      " |  Create a new string object from the given object. If encoding or\n",
      " |  errors is specified, then the object must expose a data buffer\n",
      " |  that will be decoded using the given encoding and error handler.\n",
      " |  Otherwise, returns the result of object.__str__() (if defined)\n",
      " |  or repr(object).\n",
      " |  encoding defaults to sys.getdefaultencoding().\n",
      " |  errors defaults to 'strict'.\n",
      " |  \n",
      " |  Methods defined here:\n",
      " |  \n",
      " |  __add__(self, value, /)\n",
      " |      Return self+value.\n",
      " |  \n",
      " |  __contains__(self, key, /)\n",
      " |      Return key in self.\n",
      " |  \n",
      " |  __eq__(self, value, /)\n",
      " |      Return self==value.\n",
      " |  \n",
      " |  __format__(self, format_spec, /)\n",
      " |      Return a formatted version of the string as described by format_spec.\n",
      " |  \n",
      " |  __ge__(self, value, /)\n",
      " |      Return self>=value.\n",
      " |  \n",
      " |  __getattribute__(self, name, /)\n",
      " |      Return getattr(self, name).\n",
      " |  \n",
      " |  __getitem__(self, key, /)\n",
      " |      Return self[key].\n",
      " |  \n",
      " |  __getnewargs__(...)\n",
      " |  \n",
      " |  __gt__(self, value, /)\n",
      " |      Return self>value.\n",
      " |  \n",
      " |  __hash__(self, /)\n",
      " |      Return hash(self).\n",
      " |  \n",
      " |  __iter__(self, /)\n",
      " |      Implement iter(self).\n",
      " |  \n",
      " |  __le__(self, value, /)\n",
      " |      Return self<=value.\n",
      " |  \n",
      " |  __len__(self, /)\n",
      " |      Return len(self).\n",
      " |  \n",
      " |  __lt__(self, value, /)\n",
      " |      Return self<value.\n",
      " |  \n",
      " |  __mod__(self, value, /)\n",
      " |      Return self%value.\n",
      " |  \n",
      " |  __mul__(self, value, /)\n",
      " |      Return self*value.\n",
      " |  \n",
      " |  __ne__(self, value, /)\n",
      " |      Return self!=value.\n",
      " |  \n",
      " |  __repr__(self, /)\n",
      " |      Return repr(self).\n",
      " |  \n",
      " |  __rmod__(self, value, /)\n",
      " |      Return value%self.\n",
      " |  \n",
      " |  __rmul__(self, value, /)\n",
      " |      Return value*self.\n",
      " |  \n",
      " |  __sizeof__(self, /)\n",
      " |      Return the size of the string in memory, in bytes.\n",
      " |  \n",
      " |  __str__(self, /)\n",
      " |      Return str(self).\n",
      " |  \n",
      " |  capitalize(self, /)\n",
      " |      Return a capitalized version of the string.\n",
      " |      \n",
      " |      More specifically, make the first character have upper case and the rest lower\n",
      " |      case.\n",
      " |  \n",
      " |  casefold(self, /)\n",
      " |      Return a version of the string suitable for caseless comparisons.\n",
      " |  \n",
      " |  center(self, width, fillchar=' ', /)\n",
      " |      Return a centered string of length width.\n",
      " |      \n",
      " |      Padding is done using the specified fill character (default is a space).\n",
      " |  \n",
      " |  count(...)\n",
      " |      S.count(sub[, start[, end]]) -> int\n",
      " |      \n",
      " |      Return the number of non-overlapping occurrences of substring sub in\n",
      " |      string S[start:end].  Optional arguments start and end are\n",
      " |      interpreted as in slice notation.\n",
      " |  \n",
      " |  encode(self, /, encoding='utf-8', errors='strict')\n",
      " |      Encode the string using the codec registered for encoding.\n",
      " |      \n",
      " |      encoding\n",
      " |        The encoding in which to encode the string.\n",
      " |      errors\n",
      " |        The error handling scheme to use for encoding errors.\n",
      " |        The default is 'strict' meaning that encoding errors raise a\n",
      " |        UnicodeEncodeError.  Other possible values are 'ignore', 'replace' and\n",
      " |        'xmlcharrefreplace' as well as any other name registered with\n",
      " |        codecs.register_error that can handle UnicodeEncodeErrors.\n",
      " |  \n",
      " |  endswith(...)\n",
      " |      S.endswith(suffix[, start[, end]]) -> bool\n",
      " |      \n",
      " |      Return True if S ends with the specified suffix, False otherwise.\n",
      " |      With optional start, test S beginning at that position.\n",
      " |      With optional end, stop comparing S at that position.\n",
      " |      suffix can also be a tuple of strings to try.\n",
      " |  \n",
      " |  expandtabs(self, /, tabsize=8)\n",
      " |      Return a copy where all tab characters are expanded using spaces.\n",
      " |      \n",
      " |      If tabsize is not given, a tab size of 8 characters is assumed.\n",
      " |  \n",
      " |  find(...)\n",
      " |      S.find(sub[, start[, end]]) -> int\n",
      " |      \n",
      " |      Return the lowest index in S where substring sub is found,\n",
      " |      such that sub is contained within S[start:end].  Optional\n",
      " |      arguments start and end are interpreted as in slice notation.\n",
      " |      \n",
      " |      Return -1 on failure.\n",
      " |  \n",
      " |  format(...)\n",
      " |      S.format(*args, **kwargs) -> str\n",
      " |      \n",
      " |      Return a formatted version of S, using substitutions from args and kwargs.\n",
      " |      The substitutions are identified by braces ('{' and '}').\n",
      " |  \n",
      " |  format_map(...)\n",
      " |      S.format_map(mapping) -> str\n",
      " |      \n",
      " |      Return a formatted version of S, using substitutions from mapping.\n",
      " |      The substitutions are identified by braces ('{' and '}').\n",
      " |  \n",
      " |  index(...)\n",
      " |      S.index(sub[, start[, end]]) -> int\n",
      " |      \n",
      " |      Return the lowest index in S where substring sub is found,\n",
      " |      such that sub is contained within S[start:end].  Optional\n",
      " |      arguments start and end are interpreted as in slice notation.\n",
      " |      \n",
      " |      Raises ValueError when the substring is not found.\n",
      " |  \n",
      " |  isalnum(self, /)\n",
      " |      Return True if the string is an alpha-numeric string, False otherwise.\n",
      " |      \n",
      " |      A string is alpha-numeric if all characters in the string are alpha-numeric and\n",
      " |      there is at least one character in the string.\n",
      " |  \n",
      " |  isalpha(self, /)\n",
      " |      Return True if the string is an alphabetic string, False otherwise.\n",
      " |      \n",
      " |      A string is alphabetic if all characters in the string are alphabetic and there\n",
      " |      is at least one character in the string.\n",
      " |  \n",
      " |  isascii(self, /)\n",
      " |      Return True if all characters in the string are ASCII, False otherwise.\n",
      " |      \n",
      " |      ASCII characters have code points in the range U+0000-U+007F.\n",
      " |      Empty string is ASCII too.\n",
      " |  \n",
      " |  isdecimal(self, /)\n",
      " |      Return True if the string is a decimal string, False otherwise.\n",
      " |      \n",
      " |      A string is a decimal string if all characters in the string are decimal and\n",
      " |      there is at least one character in the string.\n",
      " |  \n",
      " |  isdigit(self, /)\n",
      " |      Return True if the string is a digit string, False otherwise.\n",
      " |      \n",
      " |      A string is a digit string if all characters in the string are digits and there\n",
      " |      is at least one character in the string.\n",
      " |  \n",
      " |  isidentifier(self, /)\n",
      " |      Return True if the string is a valid Python identifier, False otherwise.\n",
      " |      \n",
      " |      Call keyword.iskeyword(s) to test whether string s is a reserved identifier,\n",
      " |      such as \"def\" or \"class\".\n",
      " |  \n",
      " |  islower(self, /)\n",
      " |      Return True if the string is a lowercase string, False otherwise.\n",
      " |      \n",
      " |      A string is lowercase if all cased characters in the string are lowercase and\n",
      " |      there is at least one cased character in the string.\n",
      " |  \n",
      " |  isnumeric(self, /)\n",
      " |      Return True if the string is a numeric string, False otherwise.\n",
      " |      \n",
      " |      A string is numeric if all characters in the string are numeric and there is at\n",
      " |      least one character in the string.\n",
      " |  \n",
      " |  isprintable(self, /)\n",
      " |      Return True if the string is printable, False otherwise.\n",
      " |      \n",
      " |      A string is printable if all of its characters are considered printable in\n",
      " |      repr() or if it is empty.\n",
      " |  \n",
      " |  isspace(self, /)\n",
      " |      Return True if the string is a whitespace string, False otherwise.\n",
      " |      \n",
      " |      A string is whitespace if all characters in the string are whitespace and there\n",
      " |      is at least one character in the string.\n",
      " |  \n",
      " |  istitle(self, /)\n",
      " |      Return True if the string is a title-cased string, False otherwise.\n",
      " |      \n",
      " |      In a title-cased string, upper- and title-case characters may only\n",
      " |      follow uncased characters and lowercase characters only cased ones.\n",
      " |  \n",
      " |  isupper(self, /)\n",
      " |      Return True if the string is an uppercase string, False otherwise.\n",
      " |      \n",
      " |      A string is uppercase if all cased characters in the string are uppercase and\n",
      " |      there is at least one cased character in the string.\n",
      " |  \n",
      " |  join(self, iterable, /)\n",
      " |      Concatenate any number of strings.\n",
      " |      \n",
      " |      The string whose method is called is inserted in between each given string.\n",
      " |      The result is returned as a new string.\n",
      " |      \n",
      " |      Example: '.'.join(['ab', 'pq', 'rs']) -> 'ab.pq.rs'\n",
      " |  \n",
      " |  ljust(self, width, fillchar=' ', /)\n",
      " |      Return a left-justified string of length width.\n",
      " |      \n",
      " |      Padding is done using the specified fill character (default is a space).\n",
      " |  \n",
      " |  lower(self, /)\n",
      " |      Return a copy of the string converted to lowercase.\n",
      " |  \n",
      " |  lstrip(self, chars=None, /)\n",
      " |      Return a copy of the string with leading whitespace removed.\n",
      " |      \n",
      " |      If chars is given and not None, remove characters in chars instead.\n",
      " |  \n",
      " |  partition(self, sep, /)\n",
      " |      Partition the string into three parts using the given separator.\n",
      " |      \n",
      " |      This will search for the separator in the string.  If the separator is found,\n",
      " |      returns a 3-tuple containing the part before the separator, the separator\n",
      " |      itself, and the part after it.\n",
      " |      \n",
      " |      If the separator is not found, returns a 3-tuple containing the original string\n",
      " |      and two empty strings.\n",
      " |  \n",
      " |  removeprefix(self, prefix, /)\n",
      " |      Return a str with the given prefix string removed if present.\n",
      " |      \n",
      " |      If the string starts with the prefix string, return string[len(prefix):].\n",
      " |      Otherwise, return a copy of the original string.\n",
      " |  \n",
      " |  removesuffix(self, suffix, /)\n",
      " |      Return a str with the given suffix string removed if present.\n",
      " |      \n",
      " |      If the string ends with the suffix string and that suffix is not empty,\n",
      " |      return string[:-len(suffix)]. Otherwise, return a copy of the original\n",
      " |      string.\n",
      " |  \n",
      " |  replace(self, old, new, count=-1, /)\n",
      " |      Return a copy with all occurrences of substring old replaced by new.\n",
      " |      \n",
      " |        count\n",
      " |          Maximum number of occurrences to replace.\n",
      " |          -1 (the default value) means replace all occurrences.\n",
      " |      \n",
      " |      If the optional argument count is given, only the first count occurrences are\n",
      " |      replaced.\n",
      " |  \n",
      " |  rfind(...)\n",
      " |      S.rfind(sub[, start[, end]]) -> int\n",
      " |      \n",
      " |      Return the highest index in S where substring sub is found,\n",
      " |      such that sub is contained within S[start:end].  Optional\n",
      " |      arguments start and end are interpreted as in slice notation.\n",
      " |      \n",
      " |      Return -1 on failure.\n",
      " |  \n",
      " |  rindex(...)\n",
      " |      S.rindex(sub[, start[, end]]) -> int\n",
      " |      \n",
      " |      Return the highest index in S where substring sub is found,\n",
      " |      such that sub is contained within S[start:end].  Optional\n",
      " |      arguments start and end are interpreted as in slice notation.\n",
      " |      \n",
      " |      Raises ValueError when the substring is not found.\n",
      " |  \n",
      " |  rjust(self, width, fillchar=' ', /)\n",
      " |      Return a right-justified string of length width.\n",
      " |      \n",
      " |      Padding is done using the specified fill character (default is a space).\n",
      " |  \n",
      " |  rpartition(self, sep, /)\n",
      " |      Partition the string into three parts using the given separator.\n",
      " |      \n",
      " |      This will search for the separator in the string, starting at the end. If\n",
      " |      the separator is found, returns a 3-tuple containing the part before the\n",
      " |      separator, the separator itself, and the part after it.\n",
      " |      \n",
      " |      If the separator is not found, returns a 3-tuple containing two empty strings\n",
      " |      and the original string.\n",
      " |  \n",
      " |  rsplit(self, /, sep=None, maxsplit=-1)\n",
      " |      Return a list of the words in the string, using sep as the delimiter string.\n",
      " |      \n",
      " |        sep\n",
      " |          The delimiter according which to split the string.\n",
      " |          None (the default value) means split according to any whitespace,\n",
      " |          and discard empty strings from the result.\n",
      " |        maxsplit\n",
      " |          Maximum number of splits to do.\n",
      " |          -1 (the default value) means no limit.\n",
      " |      \n",
      " |      Splits are done starting at the end of the string and working to the front.\n",
      " |  \n",
      " |  rstrip(self, chars=None, /)\n",
      " |      Return a copy of the string with trailing whitespace removed.\n",
      " |      \n",
      " |      If chars is given and not None, remove characters in chars instead.\n",
      " |  \n",
      " |  split(self, /, sep=None, maxsplit=-1)\n",
      " |      Return a list of the words in the string, using sep as the delimiter string.\n",
      " |      \n",
      " |      sep\n",
      " |        The delimiter according which to split the string.\n",
      " |        None (the default value) means split according to any whitespace,\n",
      " |        and discard empty strings from the result.\n",
      " |      maxsplit\n",
      " |        Maximum number of splits to do.\n",
      " |        -1 (the default value) means no limit.\n",
      " |  \n",
      " |  splitlines(self, /, keepends=False)\n",
      " |      Return a list of the lines in the string, breaking at line boundaries.\n",
      " |      \n",
      " |      Line breaks are not included in the resulting list unless keepends is given and\n",
      " |      true.\n",
      " |  \n",
      " |  startswith(...)\n",
      " |      S.startswith(prefix[, start[, end]]) -> bool\n",
      " |      \n",
      " |      Return True if S starts with the specified prefix, False otherwise.\n",
      " |      With optional start, test S beginning at that position.\n",
      " |      With optional end, stop comparing S at that position.\n",
      " |      prefix can also be a tuple of strings to try.\n",
      " |  \n",
      " |  strip(self, chars=None, /)\n",
      " |      Return a copy of the string with leading and trailing whitespace removed.\n",
      " |      \n",
      " |      If chars is given and not None, remove characters in chars instead.\n",
      " |  \n",
      " |  swapcase(self, /)\n",
      " |      Convert uppercase characters to lowercase and lowercase characters to uppercase.\n",
      " |  \n",
      " |  title(self, /)\n",
      " |      Return a version of the string where each word is titlecased.\n",
      " |      \n",
      " |      More specifically, words start with uppercased characters and all remaining\n",
      " |      cased characters have lower case.\n",
      " |  \n",
      " |  translate(self, table, /)\n",
      " |      Replace each character in the string using the given translation table.\n",
      " |      \n",
      " |        table\n",
      " |          Translation table, which must be a mapping of Unicode ordinals to\n",
      " |          Unicode ordinals, strings, or None.\n",
      " |      \n",
      " |      The table must implement lookup/indexing via __getitem__, for instance a\n",
      " |      dictionary or list.  If this operation raises LookupError, the character is\n",
      " |      left untouched.  Characters mapped to None are deleted.\n",
      " |  \n",
      " |  upper(self, /)\n",
      " |      Return a copy of the string converted to uppercase.\n",
      " |  \n",
      " |  zfill(self, width, /)\n",
      " |      Pad a numeric string with zeros on the left, to fill a field of the given width.\n",
      " |      \n",
      " |      The string is never truncated.\n",
      " |  \n",
      " |  ----------------------------------------------------------------------\n",
      " |  Static methods defined here:\n",
      " |  \n",
      " |  __new__(*args, **kwargs) from builtins.type\n",
      " |      Create and return a new object.  See help(type) for accurate signature.\n",
      " |  \n",
      " |  maketrans(...)\n",
      " |      Return a translation table usable for str.translate().\n",
      " |      \n",
      " |      If there is only one argument, it must be a dictionary mapping Unicode\n",
      " |      ordinals (integers) or characters to Unicode ordinals, strings or None.\n",
      " |      Character keys will be then converted to ordinals.\n",
      " |      If there are two arguments, they must be strings of equal length, and\n",
      " |      in the resulting dictionary, each character in x will be mapped to the\n",
      " |      character at the same position in y. If there is a third argument, it\n",
      " |      must be a string, whose characters will be mapped to None in the result.\n",
      "\n"
     ]
    }
   ],
   "source": [
    "help(str)"
   ]
  },
  {
   "cell_type": "markdown",
   "id": "c3590cff",
   "metadata": {},
   "source": [
    "## <u>NLP Step -1  : Tokenization<u>"
   ]
  },
  {
   "cell_type": "markdown",
   "id": "0223b0d6",
   "metadata": {},
   "source": [
    "### below cells shows how to download additional nltk packages when required"
   ]
  },
  {
   "cell_type": "code",
   "execution_count": 7,
   "id": "7a1783ad",
   "metadata": {},
   "outputs": [
    {
     "name": "stderr",
     "output_type": "stream",
     "text": [
      "[nltk_data] Downloading package punkt to /home/dai/nltk_data...\n",
      "[nltk_data]   Package punkt is already up-to-date!\n",
      "[nltk_data] Downloading package stopwords to /home/dai/nltk_data...\n",
      "[nltk_data]   Package stopwords is already up-to-date!\n",
      "[nltk_data] Downloading package omw-1.4 to /home/dai/nltk_data...\n",
      "[nltk_data]   Package omw-1.4 is already up-to-date!\n",
      "[nltk_data] Downloading package averaged_perceptron_tagger to\n",
      "[nltk_data]     /home/dai/nltk_data...\n",
      "[nltk_data]   Package averaged_perceptron_tagger is already up-to-\n",
      "[nltk_data]       date!\n",
      "[nltk_data] Downloading package wordnet to /home/dai/nltk_data...\n",
      "[nltk_data]   Package wordnet is already up-to-date!\n"
     ]
    },
    {
     "data": {
      "text/plain": [
       "True"
      ]
     },
     "execution_count": 7,
     "metadata": {},
     "output_type": "execute_result"
    }
   ],
   "source": [
    "import nltk \n",
    "nltk.download('punkt')\n",
    "nltk.download('stopwords')\n",
    "nltk.download('omw-1.4')\n",
    "nltk.download('averaged_perceptron_tagger')\n",
    "nltk.download('wordnet')"
   ]
  },
  {
   "cell_type": "code",
   "execution_count": 8,
   "id": "47c5d310",
   "metadata": {},
   "outputs": [],
   "source": [
    "from nltk.tokenize import sent_tokenize , word_tokenize"
   ]
  },
  {
   "cell_type": "code",
   "execution_count": 9,
   "id": "1dd951af",
   "metadata": {},
   "outputs": [],
   "source": [
    "sent = 'They said that their ages are 32, 31 and 27 respectively.'"
   ]
  },
  {
   "cell_type": "code",
   "execution_count": 10,
   "id": "7acbcdd9",
   "metadata": {},
   "outputs": [
    {
     "data": {
      "text/plain": [
       "['They',\n",
       " 'said',\n",
       " 'that',\n",
       " 'their',\n",
       " 'ages',\n",
       " 'are',\n",
       " '32',\n",
       " ',',\n",
       " '31',\n",
       " 'and',\n",
       " '27',\n",
       " 'respectively',\n",
       " '.']"
      ]
     },
     "execution_count": 10,
     "metadata": {},
     "output_type": "execute_result"
    }
   ],
   "source": [
    "word_tokenize(sent) # example of word tokenizing"
   ]
  },
  {
   "cell_type": "markdown",
   "id": "2c332cb7",
   "metadata": {},
   "source": [
    "## now when we used tokenization the program 1) is working fine with puntuation symbols as well (' . ' , ' , ' etc)"
   ]
  },
  {
   "cell_type": "code",
   "execution_count": 11,
   "id": "797122ac",
   "metadata": {},
   "outputs": [
    {
     "name": "stdout",
     "output_type": "stream",
     "text": [
      "30.0\n"
     ]
    }
   ],
   "source": [
    "num = []\n",
    "for word in word_tokenize(sent):\n",
    "    if word.isdigit():\n",
    "        num.append(int(word))\n",
    "print(np.sum(num) / len(num))"
   ]
  },
  {
   "cell_type": "markdown",
   "id": "d9e6d10e",
   "metadata": {},
   "source": [
    "### now we'll see sentence tokenizing which is also called as segmentation (breakes a paragraph into list of sentences)"
   ]
  },
  {
   "cell_type": "code",
   "execution_count": 12,
   "id": "08c0784f",
   "metadata": {},
   "outputs": [
    {
     "data": {
      "text/plain": [
       "['Hello how are you?', 'Welcome to Pune!', 'Enjoy python learning.']"
      ]
     },
     "execution_count": 12,
     "metadata": {},
     "output_type": "execute_result"
    }
   ],
   "source": [
    "#sentence tokenization also called segmentation\n",
    "sents = 'Hello how are you?\\tWelcome to Pune! Enjoy python learning.'\n",
    "sent_tokenize(sents)"
   ]
  },
  {
   "cell_type": "markdown",
   "id": "56164d99",
   "metadata": {},
   "source": [
    "### Now, we'll see space tokenizer "
   ]
  },
  {
   "cell_type": "code",
   "execution_count": 13,
   "id": "0a3bab29",
   "metadata": {},
   "outputs": [
    {
     "name": "stdout",
     "output_type": "stream",
     "text": [
      "['They', 'said', 'that', 'their', 'ages', 'are', '32,', '31', 'and', '27', 'respectively.']\n",
      "\n",
      "['Hello', 'how', 'are', 'you?\\tWelcome', 'to', 'Pune!', 'Enjoy', 'python', 'learning.']\n"
     ]
    }
   ],
   "source": [
    "#Space Tokenizer\n",
    "from nltk.tokenize import SpaceTokenizer\n",
    "tk = SpaceTokenizer()\n",
    "print(tk.tokenize(sent))\n",
    "print()\n",
    "print(tk.tokenize(sents))"
   ]
  },
  {
   "cell_type": "markdown",
   "id": "afdb95ee",
   "metadata": {},
   "source": [
    "### <u>WhiteSpace Tokenizer<u>"
   ]
  },
  {
   "cell_type": "markdown",
   "id": "01609311",
   "metadata": {},
   "source": [
    "### (tab , newline and space are considered as whitespace)"
   ]
  },
  {
   "cell_type": "code",
   "execution_count": 14,
   "id": "bfca8c56",
   "metadata": {},
   "outputs": [
    {
     "name": "stdout",
     "output_type": "stream",
     "text": [
      "['They', 'said', 'that', 'their', 'ages', 'are', '32,', '31', 'and', '27', 'respectively.']\n",
      "\n",
      "['Hello', 'how', 'are', 'you?', 'Welcome', 'to', 'Pune!', 'Enjoy', 'python', 'learning.']\n"
     ]
    }
   ],
   "source": [
    "#WhiteSpace Tokenizer\n",
    "from nltk.tokenize import WhitespaceTokenizer\n",
    "wtk = WhitespaceTokenizer()\n",
    "print(wtk.tokenize(sent))\n",
    "print()\n",
    "print(wtk.tokenize(sents))"
   ]
  },
  {
   "cell_type": "code",
   "execution_count": 15,
   "id": "02d79636",
   "metadata": {},
   "outputs": [
    {
     "name": "stdout",
     "output_type": "stream",
     "text": [
      "Hello how are you? Welcome to Pune!\n",
      "Enjoy python learning.\n"
     ]
    }
   ],
   "source": [
    "sents = 'Hello how are you? Welcome to Pune!\\nEnjoy python learning.'\n",
    "print(sents)"
   ]
  },
  {
   "cell_type": "markdown",
   "id": "cec815c8",
   "metadata": {},
   "source": [
    "## Now, we'll see <u>line tokenizer<u>  (only ' \\n ' is used to tokenize the data)"
   ]
  },
  {
   "cell_type": "code",
   "execution_count": 16,
   "id": "ead749d9",
   "metadata": {},
   "outputs": [
    {
     "data": {
      "text/plain": [
       "['Hello how are you? Welcome to Pune!', 'Enjoy python learning.']"
      ]
     },
     "execution_count": 16,
     "metadata": {},
     "output_type": "execute_result"
    }
   ],
   "source": [
    "#Line Tokenizer\n",
    "from nltk.tokenize import LineTokenizer\n",
    "tk = LineTokenizer()\n",
    "tk.tokenize(sents)"
   ]
  },
  {
   "cell_type": "markdown",
   "id": "e5108acc",
   "metadata": {},
   "source": [
    "## Now, we'll see <u>tab tokenizer<u> (only ' \\t ' is used to tokenize the data)"
   ]
  },
  {
   "cell_type": "code",
   "execution_count": 17,
   "id": "1ca2f554",
   "metadata": {},
   "outputs": [
    {
     "data": {
      "text/plain": [
       "['Hello how are you?', 'Welcome to Pune!', 'Enjoy python learning.']"
      ]
     },
     "execution_count": 17,
     "metadata": {},
     "output_type": "execute_result"
    }
   ],
   "source": [
    "#tab Tokenizer\n",
    "sents1 = 'Hello how are you?\\tWelcome to Pune!\\tEnjoy python learning.'\n",
    "from nltk.tokenize import TabTokenizer\n",
    "tk = TabTokenizer()\n",
    "tk.tokenize(sents1)"
   ]
  },
  {
   "cell_type": "markdown",
   "id": "d93d146b",
   "metadata": {},
   "source": [
    "## <u>File Handling Operations in python demo <u>"
   ]
  },
  {
   "cell_type": "code",
   "execution_count": 18,
   "id": "3747f810",
   "metadata": {},
   "outputs": [],
   "source": [
    "sents = 'Hello how are you?\\nWelcome to Pune!\\nEnjoy python learning.'"
   ]
  },
  {
   "cell_type": "code",
   "execution_count": 19,
   "id": "dd48e362",
   "metadata": {},
   "outputs": [
    {
     "data": {
      "text/plain": [
       "['Hello how are you?', 'Welcome to Pune!', 'Enjoy python learning.']"
      ]
     },
     "execution_count": 19,
     "metadata": {},
     "output_type": "execute_result"
    }
   ],
   "source": [
    "#line tokenizer\n",
    "from nltk.tokenize import LineTokenizer\n",
    "tk = LineTokenizer()\n",
    "tk.tokenize(sents)"
   ]
  },
  {
   "cell_type": "code",
   "execution_count": 20,
   "id": "73f52afa",
   "metadata": {},
   "outputs": [],
   "source": [
    "f = open('myfile.txt')\n",
    "data = f.read()"
   ]
  },
  {
   "cell_type": "code",
   "execution_count": 21,
   "id": "7de00159",
   "metadata": {},
   "outputs": [
    {
     "name": "stdout",
     "output_type": "stream",
     "text": [
      "Hello how are you?\n",
      "Welcome to Pune\n",
      "Enjoy Python Learning.\n"
     ]
    }
   ],
   "source": [
    "for line in tk.tokenize(data):\n",
    "    print(line)"
   ]
  },
  {
   "cell_type": "code",
   "execution_count": 22,
   "id": "36ee2c1d",
   "metadata": {},
   "outputs": [
    {
     "data": {
      "text/plain": [
       "'Hello how are you?\\nWelcome to Pune\\nEnjoy Python Learning.'"
      ]
     },
     "execution_count": 22,
     "metadata": {},
     "output_type": "execute_result"
    }
   ],
   "source": [
    "data"
   ]
  },
  {
   "cell_type": "code",
   "execution_count": 23,
   "id": "936cfffc",
   "metadata": {},
   "outputs": [
    {
     "name": "stdout",
     "output_type": "stream",
     "text": [
      "Hello how are you?\n",
      "HELLO HOW ARE YOU?\n",
      "Welcome to Pune\n",
      "WELCOME TO PUNE\n",
      "Enjoy Python Learning.\n",
      "ENJOY PYTHON LEARNING.\n"
     ]
    }
   ],
   "source": [
    "#another way to write abobe code of file handling operations demo\n",
    "f = open('myfile.txt')\n",
    "for line in tk.tokenize(f.read()):\n",
    "    print(line)\n",
    "    \n",
    "    print(line.upper()) # just to show we can do several line by line operations while printing like in this \n",
    "                        # we used uppercase method"
   ]
  },
  {
   "cell_type": "markdown",
   "id": "03c8458d",
   "metadata": {},
   "source": [
    "### split() is a whitespace tokenizer it considers  newline , space and tab / split() and whitespace tokenizer are equivalent to each other"
   ]
  },
  {
   "cell_type": "code",
   "execution_count": 24,
   "id": "4871beb7",
   "metadata": {},
   "outputs": [
    {
     "data": {
      "text/plain": [
       "['Hello',\n",
       " 'how',\n",
       " 'are',\n",
       " 'you?',\n",
       " 'Welcome',\n",
       " 'to',\n",
       " 'Pune!',\n",
       " 'Enjoy',\n",
       " 'python',\n",
       " 'learning.']"
      ]
     },
     "execution_count": 24,
     "metadata": {},
     "output_type": "execute_result"
    }
   ],
   "source": [
    "#whitespace tokenizer \n",
    "from nltk.tokenize import WhitespaceTokenizer\n",
    "tk = WhitespaceTokenizer()\n",
    "tk.tokenize(sents)"
   ]
  },
  {
   "cell_type": "markdown",
   "id": "2196fc0d",
   "metadata": {},
   "source": [
    "## Now we'll see <u>Tree Bank Word Tokenizer<u>"
   ]
  },
  {
   "cell_type": "code",
   "execution_count": 25,
   "id": "bfa6b687",
   "metadata": {},
   "outputs": [
    {
     "name": "stdout",
     "output_type": "stream",
     "text": [
      "Please don't make noise. You aren't aware about it. We won't do it\n"
     ]
    }
   ],
   "source": [
    "sent = \"Please don't make noise. You aren't aware about it. We won't do it\" \n",
    "print(sent)"
   ]
  },
  {
   "cell_type": "code",
   "execution_count": 26,
   "id": "f9231fdd",
   "metadata": {},
   "outputs": [
    {
     "data": {
      "text/plain": [
       "['Please',\n",
       " 'do',\n",
       " \"n't\",\n",
       " 'make',\n",
       " 'noise',\n",
       " '.',\n",
       " 'You',\n",
       " 'are',\n",
       " \"n't\",\n",
       " 'aware',\n",
       " 'about',\n",
       " 'it',\n",
       " '.',\n",
       " 'We',\n",
       " 'wo',\n",
       " \"n't\",\n",
       " 'do',\n",
       " 'it']"
      ]
     },
     "execution_count": 26,
     "metadata": {},
     "output_type": "execute_result"
    }
   ],
   "source": [
    "word_tokenize(sent) # word_tokenize works same as TreebankWordTokenizer to seperate shortcut words like\n",
    "                    # (don't -> do not , isn't -> in not , aren't -> are not etc.)\n",
    "                    # for eg. seperated don't as -> (do' - do and n't - not )\n",
    "                    #         seperated aren't -> (are' - are and n't - not)\n",
    "                    #         seperated won't -> (wo - will and n't - not)"
   ]
  },
  {
   "cell_type": "code",
   "execution_count": 27,
   "id": "18bfa351",
   "metadata": {},
   "outputs": [
    {
     "data": {
      "text/plain": [
       "['Please',\n",
       " 'do',\n",
       " \"n't\",\n",
       " 'make',\n",
       " 'noise.',\n",
       " 'You',\n",
       " 'are',\n",
       " \"n't\",\n",
       " 'aware',\n",
       " 'about',\n",
       " 'it.',\n",
       " 'We',\n",
       " 'wo',\n",
       " \"n't\",\n",
       " 'do',\n",
       " 'it']"
      ]
     },
     "execution_count": 27,
     "metadata": {},
     "output_type": "execute_result"
    }
   ],
   "source": [
    "#Tree Bank tokenizer\n",
    "from nltk.tokenize import TreebankWordTokenizer\n",
    "tk = TreebankWordTokenizer()\n",
    "tk.tokenize(sent) # it seperated shortcut words like \n",
    "                  # (don't -> do not , isn't -> in not , aren't -> are not etc.)\n",
    "                  # for eg. seperated don't as -> (do' - do and n't - not )\n",
    "                  #         seperated aren't -> (are' - are and n't - not)\n",
    "                  #         seperated won't -> (wo - will and n't - not)"
   ]
  },
  {
   "cell_type": "code",
   "execution_count": 28,
   "id": "8d6a37c2",
   "metadata": {},
   "outputs": [
    {
     "data": {
      "text/plain": [
       "65"
      ]
     },
     "execution_count": 28,
     "metadata": {},
     "output_type": "execute_result"
    }
   ],
   "source": [
    "ord('A') #ord() used to print ascii code\n",
    "\n",
    "#back in the day ascii code was used 2^8(8 bits) = 256 but it was restricted to only roman script that is \n",
    "#english \n",
    "#language but later on in the 1990's they came up with the unicode coding system which is 2^16 (16 bits) 65,536\n",
    "#which opened the gates to support other languages also like hindi , marathi , spanish , chinese etc"
   ]
  },
  {
   "cell_type": "code",
   "execution_count": 29,
   "id": "7f225b76",
   "metadata": {},
   "outputs": [
    {
     "data": {
      "text/plain": [
       "'पृढ'"
      ]
     },
     "execution_count": 29,
     "metadata": {},
     "output_type": "execute_result"
    }
   ],
   "source": [
    "s = '\\u092A\\u0943\\u0922'\n",
    "s"
   ]
  },
  {
   "cell_type": "code",
   "execution_count": 30,
   "id": "b02a4cd4",
   "metadata": {},
   "outputs": [
    {
     "data": {
      "text/plain": [
       "['पायथॉन', 'प्रोग्रामिंग', 'हि', 'जगातील', 'सर्वात', 'लोकप्रिय', 'भाषा', 'आहे']"
      ]
     },
     "execution_count": 30,
     "metadata": {},
     "output_type": "execute_result"
    }
   ],
   "source": [
    "vakya='पायथॉन प्रोग्रामिंग हि जगातील सर्वात लोकप्रिय भाषा आहे'\n",
    "word_tokenize(vakya)"
   ]
  },
  {
   "cell_type": "code",
   "execution_count": 31,
   "id": "cf66c3a1",
   "metadata": {},
   "outputs": [
    {
     "data": {
      "text/plain": [
       "['विनय', 'शेंडे']"
      ]
     },
     "execution_count": 31,
     "metadata": {},
     "output_type": "execute_result"
    }
   ],
   "source": [
    "naav = \"विनय शेंडे\"\n",
    "word_tokenize(naav)"
   ]
  },
  {
   "cell_type": "code",
   "execution_count": 32,
   "id": "435cc127",
   "metadata": {},
   "outputs": [
    {
     "data": {
      "text/plain": [
       "['ओंकार', 'बोराडे']"
      ]
     },
     "execution_count": 32,
     "metadata": {},
     "output_type": "execute_result"
    }
   ],
   "source": [
    "naav1 = \"ओंकार बोराडे \"\n",
    "word_tokenize(naav1)"
   ]
  },
  {
   "cell_type": "code",
   "execution_count": 33,
   "id": "7cda95a2",
   "metadata": {},
   "outputs": [
    {
     "data": {
      "text/plain": [
       "['I', 'line', 'python❤️', 'so', 'much😇', '.', 'It', 'is', 'AI🥸', 'Language🥶']"
      ]
     },
     "execution_count": 33,
     "metadata": {},
     "output_type": "execute_result"
    }
   ],
   "source": [
    "sent_emoji = 'I line python❤️ so much😇. It is AI🥸 Language🥶'\n",
    "word_tokenize(sent_emoji)\n",
    "#here we can see that word_tokenize is unable to seperate emojis and for that we''' use TweetTokenizer"
   ]
  },
  {
   "cell_type": "markdown",
   "id": "6be3f2ab",
   "metadata": {},
   "source": [
    "## Now we'll see <u>Tweet Tokenizer<u> (seperates emojis from text)"
   ]
  },
  {
   "cell_type": "code",
   "execution_count": 34,
   "id": "92886e13",
   "metadata": {},
   "outputs": [
    {
     "data": {
      "text/plain": [
       "['I',\n",
       " 'line',\n",
       " 'python',\n",
       " '❤',\n",
       " '️',\n",
       " 'so',\n",
       " 'much',\n",
       " '😇',\n",
       " '.',\n",
       " 'It',\n",
       " 'is',\n",
       " 'AI',\n",
       " '🥸',\n",
       " 'Language',\n",
       " '🥶']"
      ]
     },
     "execution_count": 34,
     "metadata": {},
     "output_type": "execute_result"
    }
   ],
   "source": [
    "#TweetTokinizer\n",
    "from nltk.tokenize import TweetTokenizer\n",
    "tk = TweetTokenizer()\n",
    "tk.tokenize(sent_emoji) # now we can observe in the output that emojis are also\n",
    "                        # sepereted nicely from the sentence"
   ]
  },
  {
   "cell_type": "markdown",
   "id": "44bc8033",
   "metadata": {},
   "source": [
    "## Now we'll see MWE Tokenizer (used to merge to tokens(words) we specify them in a tuple inside for eg . add_mwe( ( 'Van','Rossom' ) ) which appear on after another in a sentence )"
   ]
  },
  {
   "cell_type": "code",
   "execution_count": 35,
   "id": "77f59a3f",
   "metadata": {},
   "outputs": [
    {
     "data": {
      "text/plain": [
       "['Van',\n",
       " 'Rossom',\n",
       " 'developed',\n",
       " 'Python',\n",
       " '.',\n",
       " 'Mr.',\n",
       " 'Van',\n",
       " 'Rossom',\n",
       " 'is',\n",
       " 'a',\n",
       " 'dutch.I',\n",
       " 'am',\n",
       " 'doing',\n",
       " 'ALAS',\n",
       " '!']"
      ]
     },
     "execution_count": 35,
     "metadata": {},
     "output_type": "execute_result"
    }
   ],
   "source": [
    "sent7 = 'Van Rossom developed Python. Mr. Van Rossom is a dutch.I am doing ALAS! '\n",
    "word_tokenize(sent7)"
   ]
  },
  {
   "cell_type": "code",
   "execution_count": 36,
   "id": "d745ef8e",
   "metadata": {},
   "outputs": [
    {
     "data": {
      "text/plain": [
       "['Van_Rossom',\n",
       " 'developed',\n",
       " 'Python',\n",
       " '.',\n",
       " 'Mr.',\n",
       " 'Van_Rossom',\n",
       " 'is',\n",
       " 'a',\n",
       " 'dutch.I',\n",
       " 'am',\n",
       " 'doing',\n",
       " 'ALAS',\n",
       " '!']"
      ]
     },
     "execution_count": 36,
     "metadata": {},
     "output_type": "execute_result"
    }
   ],
   "source": [
    "#MWE Tokenizer\n",
    "from nltk.tokenize import MWETokenizer\n",
    "tk = MWETokenizer()\n",
    "tk.add_mwe(('Van','Rossom'))\n",
    "tk.tokenize(word_tokenize(sent7)) # we see in tn output that words Van Rossom is merged with ' _ ' underscore"
   ]
  },
  {
   "cell_type": "markdown",
   "id": "dc805763",
   "metadata": {},
   "source": [
    "# Now we'll see ,  <u>Part - Of - Speech POS Tagging<u>"
   ]
  },
  {
   "cell_type": "code",
   "execution_count": 37,
   "id": "c7da326d",
   "metadata": {},
   "outputs": [],
   "source": [
    "#POS Tagging\n",
    "from nltk import pos_tag\n",
    "sennt='NASA was established in 1958, succeeding the National Advisory Committee for Aeronautics (NACA), to give the U.S. space development effort a distinctly civilian orientation, emphasizing peaceful applications in space science.[5][6][7] NASA has since led most American space exploration, including Project Mercury, Project Gemini, the 1968-1972 Apollo Moon landing missions, the Skylab space station, and the Space Shuttle. NASA supports the International Space Station and oversees the development of the Orion spacecraft, the Space Launch System, Commercial Crew vehicles, and the planned Lunar Gateway space station. The agency is also responsible for the Launch Services Program, which provides oversight of launch operations and countdown management for uncrewed NASA launches.'"
   ]
  },
  {
   "cell_type": "code",
   "execution_count": 38,
   "id": "ce3e3bcf",
   "metadata": {},
   "outputs": [
    {
     "data": {
      "text/plain": [
       "'NASA was established in 1958, succeeding the National Advisory Committee for Aeronautics (NACA), to give the U.S. space development effort a distinctly civilian orientation, emphasizing peaceful applications in space science.[5][6][7] NASA has since led most American space exploration, including Project Mercury, Project Gemini, the 1968-1972 Apollo Moon landing missions, the Skylab space station, and the Space Shuttle. NASA supports the International Space Station and oversees the development of the Orion spacecraft, the Space Launch System, Commercial Crew vehicles, and the planned Lunar Gateway space station. The agency is also responsible for the Launch Services Program, which provides oversight of launch operations and countdown management for uncrewed NASA launches.'"
      ]
     },
     "execution_count": 38,
     "metadata": {},
     "output_type": "execute_result"
    }
   ],
   "source": [
    "sennt"
   ]
  },
  {
   "cell_type": "code",
   "execution_count": 39,
   "id": "045df962",
   "metadata": {},
   "outputs": [
    {
     "data": {
      "text/plain": [
       "[('NASA', 'NNP'),\n",
       " ('was', 'VBD'),\n",
       " ('established', 'VBN'),\n",
       " ('in', 'IN'),\n",
       " ('1958', 'CD'),\n",
       " (',', ','),\n",
       " ('succeeding', 'VBG'),\n",
       " ('the', 'DT'),\n",
       " ('National', 'NNP'),\n",
       " ('Advisory', 'NNP'),\n",
       " ('Committee', 'NNP'),\n",
       " ('for', 'IN'),\n",
       " ('Aeronautics', 'NNP'),\n",
       " ('(', '('),\n",
       " ('NACA', 'NNP'),\n",
       " (')', ')'),\n",
       " (',', ','),\n",
       " ('to', 'TO'),\n",
       " ('give', 'VB'),\n",
       " ('the', 'DT'),\n",
       " ('U.S.', 'NNP'),\n",
       " ('space', 'NN'),\n",
       " ('development', 'NN'),\n",
       " ('effort', 'NN'),\n",
       " ('a', 'DT'),\n",
       " ('distinctly', 'RB'),\n",
       " ('civilian', 'JJ'),\n",
       " ('orientation', 'NN'),\n",
       " (',', ','),\n",
       " ('emphasizing', 'VBG'),\n",
       " ('peaceful', 'JJ'),\n",
       " ('applications', 'NNS'),\n",
       " ('in', 'IN'),\n",
       " ('space', 'NN'),\n",
       " ('science', 'NN'),\n",
       " ('.', '.'),\n",
       " ('[', 'CC'),\n",
       " ('5', 'CD'),\n",
       " (']', 'JJ'),\n",
       " ('[', '$'),\n",
       " ('6', 'CD'),\n",
       " (']', 'NNP'),\n",
       " ('[', 'VBD'),\n",
       " ('7', 'CD'),\n",
       " (']', 'NNP'),\n",
       " ('NASA', 'NNP'),\n",
       " ('has', 'VBZ'),\n",
       " ('since', 'IN'),\n",
       " ('led', 'VBN'),\n",
       " ('most', 'JJS'),\n",
       " ('American', 'JJ'),\n",
       " ('space', 'NN'),\n",
       " ('exploration', 'NN'),\n",
       " (',', ','),\n",
       " ('including', 'VBG'),\n",
       " ('Project', 'NNP'),\n",
       " ('Mercury', 'NNP'),\n",
       " (',', ','),\n",
       " ('Project', 'NNP'),\n",
       " ('Gemini', 'NNP'),\n",
       " (',', ','),\n",
       " ('the', 'DT'),\n",
       " ('1968-1972', 'JJ'),\n",
       " ('Apollo', 'NNP'),\n",
       " ('Moon', 'NNP'),\n",
       " ('landing', 'VBG'),\n",
       " ('missions', 'NNS'),\n",
       " (',', ','),\n",
       " ('the', 'DT'),\n",
       " ('Skylab', 'NNP'),\n",
       " ('space', 'NN'),\n",
       " ('station', 'NN'),\n",
       " (',', ','),\n",
       " ('and', 'CC'),\n",
       " ('the', 'DT'),\n",
       " ('Space', 'NNP'),\n",
       " ('Shuttle', 'NNP'),\n",
       " ('.', '.'),\n",
       " ('NASA', 'NNP'),\n",
       " ('supports', 'VBZ'),\n",
       " ('the', 'DT'),\n",
       " ('International', 'NNP'),\n",
       " ('Space', 'NNP'),\n",
       " ('Station', 'NNP'),\n",
       " ('and', 'CC'),\n",
       " ('oversees', 'VBZ'),\n",
       " ('the', 'DT'),\n",
       " ('development', 'NN'),\n",
       " ('of', 'IN'),\n",
       " ('the', 'DT'),\n",
       " ('Orion', 'NNP'),\n",
       " ('spacecraft', 'NN'),\n",
       " (',', ','),\n",
       " ('the', 'DT'),\n",
       " ('Space', 'NNP'),\n",
       " ('Launch', 'NNP'),\n",
       " ('System', 'NNP'),\n",
       " (',', ','),\n",
       " ('Commercial', 'NNP'),\n",
       " ('Crew', 'NNP'),\n",
       " ('vehicles', 'NNS'),\n",
       " (',', ','),\n",
       " ('and', 'CC'),\n",
       " ('the', 'DT'),\n",
       " ('planned', 'VBN'),\n",
       " ('Lunar', 'NNP'),\n",
       " ('Gateway', 'NNP'),\n",
       " ('space', 'NN'),\n",
       " ('station', 'NN'),\n",
       " ('.', '.'),\n",
       " ('The', 'DT'),\n",
       " ('agency', 'NN'),\n",
       " ('is', 'VBZ'),\n",
       " ('also', 'RB'),\n",
       " ('responsible', 'JJ'),\n",
       " ('for', 'IN'),\n",
       " ('the', 'DT'),\n",
       " ('Launch', 'NNP'),\n",
       " ('Services', 'NNPS'),\n",
       " ('Program', 'NNP'),\n",
       " (',', ','),\n",
       " ('which', 'WDT'),\n",
       " ('provides', 'VBZ'),\n",
       " ('oversight', 'NN'),\n",
       " ('of', 'IN'),\n",
       " ('launch', 'JJ'),\n",
       " ('operations', 'NNS'),\n",
       " ('and', 'CC'),\n",
       " ('countdown', 'JJ'),\n",
       " ('management', 'NN'),\n",
       " ('for', 'IN'),\n",
       " ('uncrewed', 'JJ'),\n",
       " ('NASA', 'NNP'),\n",
       " ('launches', 'NNS'),\n",
       " ('.', '.')]"
      ]
     },
     "execution_count": 39,
     "metadata": {},
     "output_type": "execute_result"
    }
   ],
   "source": [
    "a=pos_tag(word_tokenize(sennt))\n",
    "a"
   ]
  },
  {
   "cell_type": "code",
   "execution_count": 40,
   "id": "427d52ef",
   "metadata": {},
   "outputs": [
    {
     "name": "stdout",
     "output_type": "stream",
     "text": [
      "('established', 'VBN')\n",
      "('succeeding', 'VBG')\n",
      "('emphasizing', 'VBG')\n",
      "('has', 'VBZ')\n",
      "('led', 'VBN')\n",
      "('including', 'VBG')\n",
      "('landing', 'VBG')\n",
      "('supports', 'VBZ')\n",
      "('oversees', 'VBZ')\n",
      "('planned', 'VBN')\n",
      "('is', 'VBZ')\n",
      "('provides', 'VBZ')\n",
      "\n",
      "was\n",
      "established\n",
      "succeeding\n",
      "give\n",
      "emphasizing\n",
      "has\n",
      "led\n",
      "including\n",
      "landing\n",
      "supports\n",
      "oversees\n",
      "planned\n",
      "is\n",
      "provides\n",
      "\n"
     ]
    },
    {
     "data": {
      "text/plain": [
       "['was',\n",
       " 'established',\n",
       " 'succeeding',\n",
       " 'give',\n",
       " 'emphasizing',\n",
       " 'has',\n",
       " 'led',\n",
       " 'including',\n",
       " 'landing',\n",
       " 'supports',\n",
       " 'oversees',\n",
       " 'planned',\n",
       " 'is',\n",
       " 'provides']"
      ]
     },
     "execution_count": 40,
     "metadata": {},
     "output_type": "execute_result"
    }
   ],
   "source": [
    "#Extracting verbs by various methods\n",
    "#Traditional method\n",
    "\n",
    "for i in a:\n",
    "    if i[1] in['VBG','VBN','VBZ']:\n",
    "            print(i)\n",
    "print()\n",
    "#Using startswith\n",
    "for tag in pos_tag(word_tokenize(sennt)):\n",
    "    if tag[1].startswith('V') and tag[0].isalpha():\n",
    "        print(tag[0])\n",
    "print()       \n",
    "#Using List Comprehension\n",
    "wlist=[tag[0] for tag in pos_tag(word_tokenize(sennt)) if tag[1].startswith('V') and tag[0].isalpha()]\n",
    "wlist"
   ]
  },
  {
   "cell_type": "markdown",
   "id": "62a141f1",
   "metadata": {},
   "source": [
    "### to remove puntuation symbols from text and extraxct only plain text"
   ]
  },
  {
   "cell_type": "code",
   "execution_count": 41,
   "id": "3dd887fd",
   "metadata": {},
   "outputs": [
    {
     "data": {
      "text/plain": [
       "'!\"#$%&\\'()*+,-./:;<=>?@[\\\\]^_`{|}~'"
      ]
     },
     "execution_count": 41,
     "metadata": {},
     "output_type": "execute_result"
    }
   ],
   "source": [
    "import string\n",
    "string.punctuation"
   ]
  },
  {
   "cell_type": "code",
   "execution_count": 42,
   "id": "14531057",
   "metadata": {},
   "outputs": [
    {
     "data": {
      "text/plain": [
       "'NASA was established in 1958, succeeding the National Advisory Committee for Aeronautics (NACA), to give the U.S. space development effort a distinctly civilian orientation, emphasizing peaceful applications in space science.[5][6][7] NASA has since led most American space exploration, including Project Mercury, Project Gemini, the 1968-1972 Apollo Moon landing missions, the Skylab space station, and the Space Shuttle. NASA supports the International Space Station and oversees the development of the Orion spacecraft, the Space Launch System, Commercial Crew vehicles, and the planned Lunar Gateway space station. The agency is also responsible for the Launch Services Program, which provides oversight of launch operations and countdown management for uncrewed NASA launches.'"
      ]
     },
     "execution_count": 42,
     "metadata": {},
     "output_type": "execute_result"
    }
   ],
   "source": [
    "sennt"
   ]
  },
  {
   "cell_type": "code",
   "execution_count": 43,
   "id": "bcd00ea2",
   "metadata": {},
   "outputs": [
    {
     "data": {
      "text/plain": [
       "['NASA',\n",
       " 'was',\n",
       " 'established',\n",
       " 'in',\n",
       " '1958',\n",
       " 'succeeding',\n",
       " 'the',\n",
       " 'National',\n",
       " 'Advisory',\n",
       " 'Committee',\n",
       " 'for',\n",
       " 'Aeronautics',\n",
       " 'NACA',\n",
       " 'to',\n",
       " 'give',\n",
       " 'the',\n",
       " 'U.S.',\n",
       " 'space',\n",
       " 'development',\n",
       " 'effort',\n",
       " 'a',\n",
       " 'distinctly',\n",
       " 'civilian',\n",
       " 'orientation',\n",
       " 'emphasizing',\n",
       " 'peaceful',\n",
       " 'applications',\n",
       " 'in',\n",
       " 'space',\n",
       " 'science',\n",
       " '5',\n",
       " '6',\n",
       " '7',\n",
       " 'NASA',\n",
       " 'has',\n",
       " 'since',\n",
       " 'led',\n",
       " 'most',\n",
       " 'American',\n",
       " 'space',\n",
       " 'exploration',\n",
       " 'including',\n",
       " 'Project',\n",
       " 'Mercury',\n",
       " 'Project',\n",
       " 'Gemini',\n",
       " 'the',\n",
       " '1968-1972',\n",
       " 'Apollo',\n",
       " 'Moon',\n",
       " 'landing',\n",
       " 'missions',\n",
       " 'the',\n",
       " 'Skylab',\n",
       " 'space',\n",
       " 'station',\n",
       " 'and',\n",
       " 'the',\n",
       " 'Space',\n",
       " 'Shuttle',\n",
       " 'NASA',\n",
       " 'supports',\n",
       " 'the',\n",
       " 'International',\n",
       " 'Space',\n",
       " 'Station',\n",
       " 'and',\n",
       " 'oversees',\n",
       " 'the',\n",
       " 'development',\n",
       " 'of',\n",
       " 'the',\n",
       " 'Orion',\n",
       " 'spacecraft',\n",
       " 'the',\n",
       " 'Space',\n",
       " 'Launch',\n",
       " 'System',\n",
       " 'Commercial',\n",
       " 'Crew',\n",
       " 'vehicles',\n",
       " 'and',\n",
       " 'the',\n",
       " 'planned',\n",
       " 'Lunar',\n",
       " 'Gateway',\n",
       " 'space',\n",
       " 'station',\n",
       " 'The',\n",
       " 'agency',\n",
       " 'is',\n",
       " 'also',\n",
       " 'responsible',\n",
       " 'for',\n",
       " 'the',\n",
       " 'Launch',\n",
       " 'Services',\n",
       " 'Program',\n",
       " 'which',\n",
       " 'provides',\n",
       " 'oversight',\n",
       " 'of',\n",
       " 'launch',\n",
       " 'operations',\n",
       " 'and',\n",
       " 'countdown',\n",
       " 'management',\n",
       " 'for',\n",
       " 'uncrewed',\n",
       " 'NASA',\n",
       " 'launches']"
      ]
     },
     "execution_count": 43,
     "metadata": {},
     "output_type": "execute_result"
    }
   ],
   "source": [
    "#Removing punctuations from the paragraph\n",
    "lst=[word for word in word_tokenize(sennt) if word not in string.punctuation]\n",
    "lst"
   ]
  },
  {
   "cell_type": "code",
   "execution_count": 44,
   "id": "88d34d87",
   "metadata": {},
   "outputs": [
    {
     "data": {
      "text/plain": [
       "'NASA was established in 1958 succeeding the National Advisory Committee for Aeronautics NACA to give the U.S. space development effort a distinctly civilian orientation emphasizing peaceful applications in space science 5 6 7 NASA has since led most American space exploration including Project Mercury Project Gemini the 1968-1972 Apollo Moon landing missions the Skylab space station and the Space Shuttle NASA supports the International Space Station and oversees the development of the Orion spacecraft the Space Launch System Commercial Crew vehicles and the planned Lunar Gateway space station The agency is also responsible for the Launch Services Program which provides oversight of launch operations and countdown management for uncrewed NASA launches'"
      ]
     },
     "execution_count": 44,
     "metadata": {},
     "output_type": "execute_result"
    }
   ],
   "source": [
    "#COnverting list of words to paragraph\n",
    "\" \".join(lst)"
   ]
  },
  {
   "cell_type": "markdown",
   "id": "1820e828",
   "metadata": {},
   "source": [
    "___________________________________________________________________________________________________________\n",
    "    \n",
    "## Homework\n",
    "\n",
    "#### 1) Open the wikipedia page of Indian Flag and perform analysis\n",
    "#### 2) Count total number of words\n",
    "#### 3) Count Percentage of puntuation marks \n",
    "#### 4) Print total number of line\n",
    "#### 5) How many words are in Title case ?\n",
    "#### 6) Print Total number of common nouns\n",
    "#### 7) Remove the numbers and print the text"
   ]
  },
  {
   "cell_type": "code",
   "execution_count": 45,
   "id": "892ea130",
   "metadata": {},
   "outputs": [
    {
     "data": {
      "text/plain": [
       "'The national flag of India, colloquially called the tricolour, is a horizontal rectangular tricolour flag of India saffron, white and India green; with the Ashoka Chakra, a 24-spoke wheel, in navy blue at its centre.[1][2] It was adopted in its present form during a meeting of the Constituent Assembly held on 22 July 1947, and it became the official flag of the Dominion of India on 15 August 1947. The flag was subsequently retained as that of the Republic of India. In India, the term \"tricolour\" almost always refers to the Indian national flag. The flag is based on the Swaraj flag, a flag of the Indian National Congress designed by Pingali Venkayya.[N 1]\\n\\nBy law, the flag is to be made of khadi, a special type of hand-spun cloth or silk, made popular by Mahatma Gandhi. The manufacturing process and specifications for the flag are laid out by the Bureau of Indian Standards. The right to manufacture the flag is held by the Khadi Development and Village Industries Commission, who allocates it to regional groups. As of 2009, the Karnataka Khadi Gramodyoga Samyukta Sangha has been the sole manufacturer of the flag.\\n\\nUsage of the flag is governed by the Flag Code of India and other laws relating to the national emblems. The original code prohibited use of the flag by private citizens except on national days such as the Independence day and the Republic Day. In 2002, on hearing an appeal from a private citizen, Naveen Jindal, the Supreme Court of India directed the Government of India to amend the code to allow flag usage by private citizens. Subsequently, the Union Cabinet of India amended the code to allow limited usage. The code was amended once more in 2005 to allow some additional use including adaptations on certain forms of clothing. The flag code also governs the protocol of flying the flag and its use in conjunction with other national and non-national flags.'"
      ]
     },
     "execution_count": 45,
     "metadata": {},
     "output_type": "execute_result"
    }
   ],
   "source": [
    "india_flag_data = '''The national flag of India, colloquially called the tricolour, is a horizontal rectangular tricolour flag of India saffron, white and India green; with the Ashoka Chakra, a 24-spoke wheel, in navy blue at its centre.[1][2] It was adopted in its present form during a meeting of the Constituent Assembly held on 22 July 1947, and it became the official flag of the Dominion of India on 15 August 1947. The flag was subsequently retained as that of the Republic of India. In India, the term \"tricolour\" almost always refers to the Indian national flag. The flag is based on the Swaraj flag, a flag of the Indian National Congress designed by Pingali Venkayya.[N 1]\n",
    "\n",
    "By law, the flag is to be made of khadi, a special type of hand-spun cloth or silk, made popular by Mahatma Gandhi. The manufacturing process and specifications for the flag are laid out by the Bureau of Indian Standards. The right to manufacture the flag is held by the Khadi Development and Village Industries Commission, who allocates it to regional groups. As of 2009, the Karnataka Khadi Gramodyoga Samyukta Sangha has been the sole manufacturer of the flag.\n",
    "\n",
    "Usage of the flag is governed by the Flag Code of India and other laws relating to the national emblems. The original code prohibited use of the flag by private citizens except on national days such as the Independence day and the Republic Day. In 2002, on hearing an appeal from a private citizen, Naveen Jindal, the Supreme Court of India directed the Government of India to amend the code to allow flag usage by private citizens. Subsequently, the Union Cabinet of India amended the code to allow limited usage. The code was amended once more in 2005 to allow some additional use including adaptations on certain forms of clothing. The flag code also governs the protocol of flying the flag and its use in conjunction with other national and non-national flags.'''\n",
    "\n",
    "india_flag_data"
   ]
  },
  {
   "cell_type": "markdown",
   "id": "fe78266e",
   "metadata": {},
   "source": [
    "### Count total number of words\n"
   ]
  },
  {
   "cell_type": "code",
   "execution_count": 46,
   "id": "ade7977a",
   "metadata": {},
   "outputs": [
    {
     "name": "stdout",
     "output_type": "stream",
     "text": [
      "Count of Total Number of words is =>  323\n"
     ]
    }
   ],
   "source": [
    "# Count total number of words\n",
    "from nltk.tokenize import SpaceTokenizer\n",
    "tk = SpaceTokenizer()\n",
    "print(\"Count of Total Number of words is => \",len(tk.tokenize(india_flag_data)))"
   ]
  },
  {
   "cell_type": "markdown",
   "id": "d5718109",
   "metadata": {},
   "source": [
    "### Count Percentage of puntuation marks "
   ]
  },
  {
   "cell_type": "code",
   "execution_count": 47,
   "id": "f799c0fb",
   "metadata": {},
   "outputs": [
    {
     "name": "stdout",
     "output_type": "stream",
     "text": [
      "[',', '(', ')', ',', ',', '.', '[', ']', '[', ']', '[', ']', ',', ',', ',', ',', ',', '.', ',', ',', ',', '.', ',', '.']\n",
      "\n",
      "length of Puntuations list =>  24\n",
      "\n",
      "length of word list =>  325\n",
      "\n",
      "7.384615384615385\n"
     ]
    }
   ],
   "source": [
    "punct_lst = [word for word in word_tokenize(sennt) if word in string.punctuation]\n",
    "print(punct_lst)\n",
    "print()\n",
    "print(\"length of Puntuations list => \",len(punct_lst))\n",
    "print()\n",
    "print(\"length of word list => \",len(india_flag_data.split()))\n",
    "print()\n",
    "print(len(punct_lst)/len(india_flag_data.split()) * 100)"
   ]
  },
  {
   "cell_type": "markdown",
   "id": "1665c2e2",
   "metadata": {},
   "source": [
    "## Print total number of line"
   ]
  },
  {
   "cell_type": "code",
   "execution_count": 48,
   "id": "8c64a205",
   "metadata": {},
   "outputs": [
    {
     "name": "stdout",
     "output_type": "stream",
     "text": [
      "List of sentences => \n",
      "\n",
      " ['The national flag of India, colloquially called the tricolour, is a horizontal rectangular tricolour flag of India saffron, white and India green; with the Ashoka Chakra, a 24-spoke wheel, in navy blue at its centre', '[1][2] It was adopted in its present form during a meeting of the Constituent Assembly held on 22 July 1947, and it became the official flag of the Dominion of India on 15 August 1947', ' The flag was subsequently retained as that of the Republic of India', ' In India, the term \"tricolour\" almost always refers to the Indian national flag', ' The flag is based on the Swaraj flag, a flag of the Indian National Congress designed by Pingali Venkayya', '[N 1]\\n\\nBy law, the flag is to be made of khadi, a special type of hand-spun cloth or silk, made popular by Mahatma Gandhi', ' The manufacturing process and specifications for the flag are laid out by the Bureau of Indian Standards', ' The right to manufacture the flag is held by the Khadi Development and Village Industries Commission, who allocates it to regional groups', ' As of 2009, the Karnataka Khadi Gramodyoga Samyukta Sangha has been the sole manufacturer of the flag', '\\n\\nUsage of the flag is governed by the Flag Code of India and other laws relating to the national emblems', ' The original code prohibited use of the flag by private citizens except on national days such as the Independence day and the Republic Day', ' In 2002, on hearing an appeal from a private citizen, Naveen Jindal, the Supreme Court of India directed the Government of India to amend the code to allow flag usage by private citizens', ' Subsequently, the Union Cabinet of India amended the code to allow limited usage', ' The code was amended once more in 2005 to allow some additional use including adaptations on certain forms of clothing', ' The flag code also governs the protocol of flying the flag and its use in conjunction with other national and non-national flags', '']\n",
      "\n",
      "Total number of sentences =>  16\n"
     ]
    },
    {
     "data": {
      "text/plain": [
       "15"
      ]
     },
     "execution_count": 48,
     "metadata": {},
     "output_type": "execute_result"
    }
   ],
   "source": [
    "fullstops = [word for word in india_flag_data.split(\".\")]\n",
    "print(\"List of sentences => \\n\\n\",fullstops)\n",
    "print()\n",
    "print(\"Total number of sentences => \",len(fullstops))\n",
    "\n",
    "##OB\n",
    "len(sent_tokenize(india_flag_data))"
   ]
  },
  {
   "cell_type": "markdown",
   "id": "061f4fba",
   "metadata": {},
   "source": [
    "## How many words are in Title case ?"
   ]
  },
  {
   "cell_type": "code",
   "execution_count": 49,
   "id": "b015383c",
   "metadata": {},
   "outputs": [
    {
     "name": "stdout",
     "output_type": "stream",
     "text": [
      "Title Case Words list => \n",
      "\n",
      " ['The', 'India', 'India', 'India', 'Ashoka', 'Chakra', 'It', 'Constituent', 'Assembly', 'July', 'Dominion', 'India', 'August', 'The', 'Republic', 'India', 'In', 'India', 'Indian', 'The', 'Swaraj', 'Indian', 'National', 'Congress', 'Pingali', 'Venkayya', 'N', 'By', 'Mahatma', 'Gandhi', 'The', 'Bureau', 'Indian', 'Standards', 'The', 'Khadi', 'Development', 'Village', 'Industries', 'Commission', 'As', 'Karnataka', 'Khadi', 'Gramodyoga', 'Samyukta', 'Sangha', 'Usage', 'Flag', 'Code', 'India', 'The', 'Independence', 'Republic', 'Day', 'In', 'Naveen', 'Jindal', 'Supreme', 'Court', 'India', 'Government', 'India', 'Subsequently', 'Union', 'Cabinet', 'India', 'The', 'The']\n",
      "\n",
      "Total number of Title cases words =>  68\n"
     ]
    }
   ],
   "source": [
    "title_case_words_list = [word for word in word_tokenize(india_flag_data) if word.istitle() == True]\n",
    "\n",
    "print(\"Title Case Words list => \\n\\n\",title_case_words_list)\n",
    "print()\n",
    "print(\"Total number of Title cases words => \",len(title_case_words_list))"
   ]
  },
  {
   "cell_type": "markdown",
   "id": "4567e2c3",
   "metadata": {},
   "source": [
    "## Print Total number of common nouns"
   ]
  },
  {
   "cell_type": "code",
   "execution_count": 50,
   "id": "7c732c33",
   "metadata": {},
   "outputs": [
    {
     "data": {
      "text/plain": [
       "[('The', 'DT'),\n",
       " ('national', 'JJ'),\n",
       " ('flag', 'NN'),\n",
       " ('of', 'IN'),\n",
       " ('India', 'NNP'),\n",
       " (',', ','),\n",
       " ('colloquially', 'RB'),\n",
       " ('called', 'VBD'),\n",
       " ('the', 'DT'),\n",
       " ('tricolour', 'NN'),\n",
       " (',', ','),\n",
       " ('is', 'VBZ'),\n",
       " ('a', 'DT'),\n",
       " ('horizontal', 'JJ'),\n",
       " ('rectangular', 'JJ'),\n",
       " ('tricolour', 'NN'),\n",
       " ('flag', 'NN'),\n",
       " ('of', 'IN'),\n",
       " ('India', 'NNP'),\n",
       " ('saffron', 'NN'),\n",
       " (',', ','),\n",
       " ('white', 'JJ'),\n",
       " ('and', 'CC'),\n",
       " ('India', 'NNP'),\n",
       " ('green', 'JJ'),\n",
       " (';', ':'),\n",
       " ('with', 'IN'),\n",
       " ('the', 'DT'),\n",
       " ('Ashoka', 'NNP'),\n",
       " ('Chakra', 'NNP'),\n",
       " (',', ','),\n",
       " ('a', 'DT'),\n",
       " ('24-spoke', 'JJ'),\n",
       " ('wheel', 'NN'),\n",
       " (',', ','),\n",
       " ('in', 'IN'),\n",
       " ('navy', 'JJ'),\n",
       " ('blue', 'NN'),\n",
       " ('at', 'IN'),\n",
       " ('its', 'PRP$'),\n",
       " ('centre', 'NN'),\n",
       " ('.', '.'),\n",
       " ('[', 'CC'),\n",
       " ('1', 'CD'),\n",
       " (']', 'JJ'),\n",
       " ('[', '$'),\n",
       " ('2', 'CD'),\n",
       " (']', 'NN'),\n",
       " ('It', 'PRP'),\n",
       " ('was', 'VBD'),\n",
       " ('adopted', 'VBN'),\n",
       " ('in', 'IN'),\n",
       " ('its', 'PRP$'),\n",
       " ('present', 'JJ'),\n",
       " ('form', 'NN'),\n",
       " ('during', 'IN'),\n",
       " ('a', 'DT'),\n",
       " ('meeting', 'NN'),\n",
       " ('of', 'IN'),\n",
       " ('the', 'DT'),\n",
       " ('Constituent', 'NNP'),\n",
       " ('Assembly', 'NNP'),\n",
       " ('held', 'VBD'),\n",
       " ('on', 'IN'),\n",
       " ('22', 'CD'),\n",
       " ('July', 'NNP'),\n",
       " ('1947', 'CD'),\n",
       " (',', ','),\n",
       " ('and', 'CC'),\n",
       " ('it', 'PRP'),\n",
       " ('became', 'VBD'),\n",
       " ('the', 'DT'),\n",
       " ('official', 'JJ'),\n",
       " ('flag', 'NN'),\n",
       " ('of', 'IN'),\n",
       " ('the', 'DT'),\n",
       " ('Dominion', 'NNP'),\n",
       " ('of', 'IN'),\n",
       " ('India', 'NNP'),\n",
       " ('on', 'IN'),\n",
       " ('15', 'CD'),\n",
       " ('August', 'NNP'),\n",
       " ('1947', 'CD'),\n",
       " ('.', '.'),\n",
       " ('The', 'DT'),\n",
       " ('flag', 'NN'),\n",
       " ('was', 'VBD'),\n",
       " ('subsequently', 'RB'),\n",
       " ('retained', 'VBN'),\n",
       " ('as', 'IN'),\n",
       " ('that', 'DT'),\n",
       " ('of', 'IN'),\n",
       " ('the', 'DT'),\n",
       " ('Republic', 'NNP'),\n",
       " ('of', 'IN'),\n",
       " ('India', 'NNP'),\n",
       " ('.', '.'),\n",
       " ('In', 'IN'),\n",
       " ('India', 'NNP'),\n",
       " (',', ','),\n",
       " ('the', 'DT'),\n",
       " ('term', 'NN'),\n",
       " ('``', '``'),\n",
       " ('tricolour', 'NN'),\n",
       " (\"''\", \"''\"),\n",
       " ('almost', 'RB'),\n",
       " ('always', 'RB'),\n",
       " ('refers', 'NNS'),\n",
       " ('to', 'TO'),\n",
       " ('the', 'DT'),\n",
       " ('Indian', 'JJ'),\n",
       " ('national', 'JJ'),\n",
       " ('flag', 'NN'),\n",
       " ('.', '.'),\n",
       " ('The', 'DT'),\n",
       " ('flag', 'NN'),\n",
       " ('is', 'VBZ'),\n",
       " ('based', 'VBN'),\n",
       " ('on', 'IN'),\n",
       " ('the', 'DT'),\n",
       " ('Swaraj', 'NNP'),\n",
       " ('flag', 'NN'),\n",
       " (',', ','),\n",
       " ('a', 'DT'),\n",
       " ('flag', 'NN'),\n",
       " ('of', 'IN'),\n",
       " ('the', 'DT'),\n",
       " ('Indian', 'JJ'),\n",
       " ('National', 'NNP'),\n",
       " ('Congress', 'NNP'),\n",
       " ('designed', 'VBN'),\n",
       " ('by', 'IN'),\n",
       " ('Pingali', 'NNP'),\n",
       " ('Venkayya', 'NNP'),\n",
       " ('.', '.'),\n",
       " ('[', 'VB'),\n",
       " ('N', 'NNP'),\n",
       " ('1', 'CD'),\n",
       " (']', 'NN'),\n",
       " ('By', 'IN'),\n",
       " ('law', 'NN'),\n",
       " (',', ','),\n",
       " ('the', 'DT'),\n",
       " ('flag', 'NN'),\n",
       " ('is', 'VBZ'),\n",
       " ('to', 'TO'),\n",
       " ('be', 'VB'),\n",
       " ('made', 'VBN'),\n",
       " ('of', 'IN'),\n",
       " ('khadi', 'NN'),\n",
       " (',', ','),\n",
       " ('a', 'DT'),\n",
       " ('special', 'JJ'),\n",
       " ('type', 'NN'),\n",
       " ('of', 'IN'),\n",
       " ('hand-spun', 'JJ'),\n",
       " ('cloth', 'NN'),\n",
       " ('or', 'CC'),\n",
       " ('silk', 'NN'),\n",
       " (',', ','),\n",
       " ('made', 'VBN'),\n",
       " ('popular', 'JJ'),\n",
       " ('by', 'IN'),\n",
       " ('Mahatma', 'NNP'),\n",
       " ('Gandhi', 'NNP'),\n",
       " ('.', '.'),\n",
       " ('The', 'DT'),\n",
       " ('manufacturing', 'NN'),\n",
       " ('process', 'NN'),\n",
       " ('and', 'CC'),\n",
       " ('specifications', 'NNS'),\n",
       " ('for', 'IN'),\n",
       " ('the', 'DT'),\n",
       " ('flag', 'NN'),\n",
       " ('are', 'VBP'),\n",
       " ('laid', 'VBN'),\n",
       " ('out', 'RP'),\n",
       " ('by', 'IN'),\n",
       " ('the', 'DT'),\n",
       " ('Bureau', 'NNP'),\n",
       " ('of', 'IN'),\n",
       " ('Indian', 'JJ'),\n",
       " ('Standards', 'NNP'),\n",
       " ('.', '.'),\n",
       " ('The', 'DT'),\n",
       " ('right', 'NN'),\n",
       " ('to', 'TO'),\n",
       " ('manufacture', 'VB'),\n",
       " ('the', 'DT'),\n",
       " ('flag', 'NN'),\n",
       " ('is', 'VBZ'),\n",
       " ('held', 'VBN'),\n",
       " ('by', 'IN'),\n",
       " ('the', 'DT'),\n",
       " ('Khadi', 'NNP'),\n",
       " ('Development', 'NNP'),\n",
       " ('and', 'CC'),\n",
       " ('Village', 'NNP'),\n",
       " ('Industries', 'NNPS'),\n",
       " ('Commission', 'NNP'),\n",
       " (',', ','),\n",
       " ('who', 'WP'),\n",
       " ('allocates', 'VBZ'),\n",
       " ('it', 'PRP'),\n",
       " ('to', 'TO'),\n",
       " ('regional', 'JJ'),\n",
       " ('groups', 'NNS'),\n",
       " ('.', '.'),\n",
       " ('As', 'IN'),\n",
       " ('of', 'IN'),\n",
       " ('2009', 'CD'),\n",
       " (',', ','),\n",
       " ('the', 'DT'),\n",
       " ('Karnataka', 'NNP'),\n",
       " ('Khadi', 'NNP'),\n",
       " ('Gramodyoga', 'NNP'),\n",
       " ('Samyukta', 'NNP'),\n",
       " ('Sangha', 'NNP'),\n",
       " ('has', 'VBZ'),\n",
       " ('been', 'VBN'),\n",
       " ('the', 'DT'),\n",
       " ('sole', 'JJ'),\n",
       " ('manufacturer', 'NN'),\n",
       " ('of', 'IN'),\n",
       " ('the', 'DT'),\n",
       " ('flag', 'NN'),\n",
       " ('.', '.'),\n",
       " ('Usage', 'NN'),\n",
       " ('of', 'IN'),\n",
       " ('the', 'DT'),\n",
       " ('flag', 'NN'),\n",
       " ('is', 'VBZ'),\n",
       " ('governed', 'VBN'),\n",
       " ('by', 'IN'),\n",
       " ('the', 'DT'),\n",
       " ('Flag', 'NNP'),\n",
       " ('Code', 'NNP'),\n",
       " ('of', 'IN'),\n",
       " ('India', 'NNP'),\n",
       " ('and', 'CC'),\n",
       " ('other', 'JJ'),\n",
       " ('laws', 'NNS'),\n",
       " ('relating', 'VBG'),\n",
       " ('to', 'TO'),\n",
       " ('the', 'DT'),\n",
       " ('national', 'JJ'),\n",
       " ('emblems', 'NN'),\n",
       " ('.', '.'),\n",
       " ('The', 'DT'),\n",
       " ('original', 'JJ'),\n",
       " ('code', 'NN'),\n",
       " ('prohibited', 'VBN'),\n",
       " ('use', 'NN'),\n",
       " ('of', 'IN'),\n",
       " ('the', 'DT'),\n",
       " ('flag', 'NN'),\n",
       " ('by', 'IN'),\n",
       " ('private', 'JJ'),\n",
       " ('citizens', 'NNS'),\n",
       " ('except', 'IN'),\n",
       " ('on', 'IN'),\n",
       " ('national', 'JJ'),\n",
       " ('days', 'NNS'),\n",
       " ('such', 'JJ'),\n",
       " ('as', 'IN'),\n",
       " ('the', 'DT'),\n",
       " ('Independence', 'NNP'),\n",
       " ('day', 'NN'),\n",
       " ('and', 'CC'),\n",
       " ('the', 'DT'),\n",
       " ('Republic', 'NNP'),\n",
       " ('Day', 'NNP'),\n",
       " ('.', '.'),\n",
       " ('In', 'IN'),\n",
       " ('2002', 'CD'),\n",
       " (',', ','),\n",
       " ('on', 'IN'),\n",
       " ('hearing', 'VBG'),\n",
       " ('an', 'DT'),\n",
       " ('appeal', 'NN'),\n",
       " ('from', 'IN'),\n",
       " ('a', 'DT'),\n",
       " ('private', 'JJ'),\n",
       " ('citizen', 'NN'),\n",
       " (',', ','),\n",
       " ('Naveen', 'NNP'),\n",
       " ('Jindal', 'NNP'),\n",
       " (',', ','),\n",
       " ('the', 'DT'),\n",
       " ('Supreme', 'NNP'),\n",
       " ('Court', 'NNP'),\n",
       " ('of', 'IN'),\n",
       " ('India', 'NNP'),\n",
       " ('directed', 'VBD'),\n",
       " ('the', 'DT'),\n",
       " ('Government', 'NNP'),\n",
       " ('of', 'IN'),\n",
       " ('India', 'NNP'),\n",
       " ('to', 'TO'),\n",
       " ('amend', 'VB'),\n",
       " ('the', 'DT'),\n",
       " ('code', 'NN'),\n",
       " ('to', 'TO'),\n",
       " ('allow', 'VB'),\n",
       " ('flag', 'NN'),\n",
       " ('usage', 'NN'),\n",
       " ('by', 'IN'),\n",
       " ('private', 'JJ'),\n",
       " ('citizens', 'NNS'),\n",
       " ('.', '.'),\n",
       " ('Subsequently', 'RB'),\n",
       " (',', ','),\n",
       " ('the', 'DT'),\n",
       " ('Union', 'NNP'),\n",
       " ('Cabinet', 'NNP'),\n",
       " ('of', 'IN'),\n",
       " ('India', 'NNP'),\n",
       " ('amended', 'VBD'),\n",
       " ('the', 'DT'),\n",
       " ('code', 'NN'),\n",
       " ('to', 'TO'),\n",
       " ('allow', 'VB'),\n",
       " ('limited', 'JJ'),\n",
       " ('usage', 'NN'),\n",
       " ('.', '.'),\n",
       " ('The', 'DT'),\n",
       " ('code', 'NN'),\n",
       " ('was', 'VBD'),\n",
       " ('amended', 'VBN'),\n",
       " ('once', 'RB'),\n",
       " ('more', 'RBR'),\n",
       " ('in', 'IN'),\n",
       " ('2005', 'CD'),\n",
       " ('to', 'TO'),\n",
       " ('allow', 'VB'),\n",
       " ('some', 'DT'),\n",
       " ('additional', 'JJ'),\n",
       " ('use', 'NN'),\n",
       " ('including', 'VBG'),\n",
       " ('adaptations', 'NNS'),\n",
       " ('on', 'IN'),\n",
       " ('certain', 'JJ'),\n",
       " ('forms', 'NNS'),\n",
       " ('of', 'IN'),\n",
       " ('clothing', 'NN'),\n",
       " ('.', '.'),\n",
       " ('The', 'DT'),\n",
       " ('flag', 'NN'),\n",
       " ('code', 'NN'),\n",
       " ('also', 'RB'),\n",
       " ('governs', 'VBZ'),\n",
       " ('the', 'DT'),\n",
       " ('protocol', 'NN'),\n",
       " ('of', 'IN'),\n",
       " ('flying', 'VBG'),\n",
       " ('the', 'DT'),\n",
       " ('flag', 'NN'),\n",
       " ('and', 'CC'),\n",
       " ('its', 'PRP$'),\n",
       " ('use', 'NN'),\n",
       " ('in', 'IN'),\n",
       " ('conjunction', 'NN'),\n",
       " ('with', 'IN'),\n",
       " ('other', 'JJ'),\n",
       " ('national', 'JJ'),\n",
       " ('and', 'CC'),\n",
       " ('non-national', 'JJ'),\n",
       " ('flags', 'NNS'),\n",
       " ('.', '.')]"
      ]
     },
     "execution_count": 50,
     "metadata": {},
     "output_type": "execute_result"
    }
   ],
   "source": [
    "#POS Tagging\n",
    "from nltk import pos_tag\n",
    "pos_tag(word_tokenize(india_flag_data))"
   ]
  },
  {
   "cell_type": "code",
   "execution_count": 51,
   "id": "f219bab4",
   "metadata": {},
   "outputs": [
    {
     "name": "stdout",
     "output_type": "stream",
     "text": [
      "Common Nouns List => \n",
      "\n",
      " ['flag', 'India', 'tricolour', 'tricolour', 'flag', 'India', 'saffron', 'India', 'Ashoka', 'Chakra', 'wheel', 'blue', 'centre', 'form', 'meeting', 'Constituent', 'Assembly', 'July', 'flag', 'Dominion', 'India', 'August', 'flag', 'Republic', 'India', 'India', 'term', 'tricolour', 'refers', 'flag', 'flag', 'Swaraj', 'flag', 'flag', 'National', 'Congress', 'Pingali', 'Venkayya', 'N', 'law', 'flag', 'khadi', 'type', 'cloth', 'silk', 'Mahatma', 'Gandhi', 'manufacturing', 'process', 'specifications', 'flag', 'Bureau', 'Standards', 'right', 'flag', 'Khadi', 'Development', 'Village', 'Industries', 'Commission', 'groups', 'Karnataka', 'Khadi', 'Gramodyoga', 'Samyukta', 'Sangha', 'manufacturer', 'flag', 'Usage', 'flag', 'Flag', 'Code', 'India', 'laws', 'emblems', 'code', 'use', 'flag', 'citizens', 'days', 'Independence', 'day', 'Republic', 'Day', 'appeal', 'citizen', 'Naveen', 'Jindal', 'Supreme', 'Court', 'India', 'Government', 'India', 'code', 'flag', 'usage', 'citizens', 'Union', 'Cabinet', 'India', 'code', 'usage', 'code', 'use', 'adaptations', 'forms', 'clothing', 'flag', 'code', 'protocol', 'flag', 'use', 'conjunction', 'flags']\n",
      "\n",
      "Totan number of common nouns =>  114\n"
     ]
    }
   ],
   "source": [
    "#Using List Comprehension\n",
    "common_nouns_list = [tag[0] for tag in pos_tag(word_tokenize(india_flag_data)) if tag[1].startswith('NN') and tag[0].isalpha()]\n",
    "print(\"Common Nouns List => \\n\\n\",common_nouns_list)\n",
    "print()\n",
    "print(\"Totan number of common nouns => \",len(common_nouns_list))"
   ]
  },
  {
   "cell_type": "markdown",
   "id": "8b4e3630",
   "metadata": {},
   "source": [
    "## Remove the numbers and print the text"
   ]
  },
  {
   "cell_type": "code",
   "execution_count": 52,
   "id": "453fe933",
   "metadata": {},
   "outputs": [
    {
     "name": "stdout",
     "output_type": "stream",
     "text": [
      "The national flag of India, colloquially called the tricolour, is a horizontal rectangular tricolour flag of India saffron, white and India green; with the Ashoka Chakra, a -spoke wheel, in navy blue at its centre.[][] It was adopted in its present form during a meeting of the Constituent Assembly held on  July , and it became the official flag of the Dominion of India on  August . The flag was subsequently retained as that of the Republic of India. In India, the term \"tricolour\" almost always refers to the Indian national flag. The flag is based on the Swaraj flag, a flag of the Indian National Congress designed by Pingali Venkayya.[N ]\n",
      "\n",
      "By law, the flag is to be made of khadi, a special type of hand-spun cloth or silk, made popular by Mahatma Gandhi. The manufacturing process and specifications for the flag are laid out by the Bureau of Indian Standards. The right to manufacture the flag is held by the Khadi Development and Village Industries Commission, who allocates it to regional groups. As of , the Karnataka Khadi Gramodyoga Samyukta Sangha has been the sole manufacturer of the flag.\n",
      "\n",
      "Usage of the flag is governed by the Flag Code of India and other laws relating to the national emblems. The original code prohibited use of the flag by private citizens except on national days such as the Independence day and the Republic Day. In , on hearing an appeal from a private citizen, Naveen Jindal, the Supreme Court of India directed the Government of India to amend the code to allow flag usage by private citizens. Subsequently, the Union Cabinet of India amended the code to allow limited usage. The code was amended once more in  to allow some additional use including adaptations on certain forms of clothing. The flag code also governs the protocol of flying the flag and its use in conjunction with other national and non-national flags.\n"
     ]
    }
   ],
   "source": [
    "india_flag_data_without_numbers = ''.join((x for x in india_flag_data if not x.isdigit()))\n",
    "\n",
    "print(india_flag_data_without_numbers)\n"
   ]
  },
  {
   "cell_type": "code",
   "execution_count": null,
   "id": "afff1276",
   "metadata": {},
   "outputs": [],
   "source": []
  }
 ],
 "metadata": {
  "kernelspec": {
   "display_name": "Python 3 (ipykernel)",
   "language": "python",
   "name": "python3"
  },
  "language_info": {
   "codemirror_mode": {
    "name": "ipython",
    "version": 3
   },
   "file_extension": ".py",
   "mimetype": "text/x-python",
   "name": "python",
   "nbconvert_exporter": "python",
   "pygments_lexer": "ipython3",
   "version": "3.9.13"
  }
 },
 "nbformat": 4,
 "nbformat_minor": 5
}
