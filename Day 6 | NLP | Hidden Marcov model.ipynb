{
 "cells": [
  {
   "cell_type": "code",
   "execution_count": 1,
   "id": "b9c216d0",
   "metadata": {
    "id": "b9c216d0"
   },
   "outputs": [],
   "source": [
    "# Hidden Markov Model"
   ]
  },
  {
   "cell_type": "code",
   "execution_count": 2,
   "id": "9050ba62",
   "metadata": {
    "id": "9050ba62"
   },
   "outputs": [],
   "source": [
    "import numpy as np\n",
    "import matplotlib.pyplot as plt\n",
    "import pandas as pd\n",
    "import networkx as nx"
   ]
  },
  {
   "cell_type": "code",
   "execution_count": 3,
   "id": "4657b39d",
   "metadata": {
    "colab": {
     "base_uri": "https://localhost:8080/"
    },
    "id": "4657b39d",
    "outputId": "bb3fc5fb-2be8-40ae-a85f-1e8973d0893e"
   },
   "outputs": [
    {
     "name": "stdout",
     "output_type": "stream",
     "text": [
      "sleeping    0.45\n",
      "eating      0.35\n",
      "walking     0.20\n",
      "Name: states, dtype: float64\n",
      "1.0\n"
     ]
    }
   ],
   "source": [
    "states=['sleeping','eating','walking']\n",
    "pi=[0.45,0.35,0.2]\n",
    "state_space=pd.Series(pi,index=states,name='states')\n",
    "print(state_space)\n",
    "print(state_space.sum())"
   ]
  },
  {
   "cell_type": "code",
   "execution_count": 4,
   "id": "36e91b5b",
   "metadata": {
    "id": "36e91b5b"
   },
   "outputs": [],
   "source": [
    "q_df=pd.DataFrame(columns=states,index=states)\n",
    "q_df.loc[states[0]]=[0.4,0.2,0.4]\n",
    "q_df.loc[states[1]]=[0.4,0.4,0.2]\n",
    "q_df.loc[states[2]]=[0.4,0.2,0.4]"
   ]
  },
  {
   "cell_type": "code",
   "execution_count": 5,
   "id": "4f3beaf5",
   "metadata": {
    "colab": {
     "base_uri": "https://localhost:8080/",
     "height": 143
    },
    "id": "4f3beaf5",
    "outputId": "783e8e00-888a-441d-fba4-48a558a7db36"
   },
   "outputs": [
    {
     "data": {
      "text/html": [
       "\n",
       "  <div id=\"df-629a2225-b383-493f-add2-1d99a80e63a9\">\n",
       "    <div class=\"colab-df-container\">\n",
       "      <div>\n",
       "<style scoped>\n",
       "    .dataframe tbody tr th:only-of-type {\n",
       "        vertical-align: middle;\n",
       "    }\n",
       "\n",
       "    .dataframe tbody tr th {\n",
       "        vertical-align: top;\n",
       "    }\n",
       "\n",
       "    .dataframe thead th {\n",
       "        text-align: right;\n",
       "    }\n",
       "</style>\n",
       "<table border=\"1\" class=\"dataframe\">\n",
       "  <thead>\n",
       "    <tr style=\"text-align: right;\">\n",
       "      <th></th>\n",
       "      <th>sleeping</th>\n",
       "      <th>eating</th>\n",
       "      <th>walking</th>\n",
       "    </tr>\n",
       "  </thead>\n",
       "  <tbody>\n",
       "    <tr>\n",
       "      <th>sleeping</th>\n",
       "      <td>0.4</td>\n",
       "      <td>0.2</td>\n",
       "      <td>0.4</td>\n",
       "    </tr>\n",
       "    <tr>\n",
       "      <th>eating</th>\n",
       "      <td>0.4</td>\n",
       "      <td>0.4</td>\n",
       "      <td>0.2</td>\n",
       "    </tr>\n",
       "    <tr>\n",
       "      <th>walking</th>\n",
       "      <td>0.4</td>\n",
       "      <td>0.2</td>\n",
       "      <td>0.4</td>\n",
       "    </tr>\n",
       "  </tbody>\n",
       "</table>\n",
       "</div>\n",
       "      <button class=\"colab-df-convert\" onclick=\"convertToInteractive('df-629a2225-b383-493f-add2-1d99a80e63a9')\"\n",
       "              title=\"Convert this dataframe to an interactive table.\"\n",
       "              style=\"display:none;\">\n",
       "        \n",
       "  <svg xmlns=\"http://www.w3.org/2000/svg\" height=\"24px\"viewBox=\"0 0 24 24\"\n",
       "       width=\"24px\">\n",
       "    <path d=\"M0 0h24v24H0V0z\" fill=\"none\"/>\n",
       "    <path d=\"M18.56 5.44l.94 2.06.94-2.06 2.06-.94-2.06-.94-.94-2.06-.94 2.06-2.06.94zm-11 1L8.5 8.5l.94-2.06 2.06-.94-2.06-.94L8.5 2.5l-.94 2.06-2.06.94zm10 10l.94 2.06.94-2.06 2.06-.94-2.06-.94-.94-2.06-.94 2.06-2.06.94z\"/><path d=\"M17.41 7.96l-1.37-1.37c-.4-.4-.92-.59-1.43-.59-.52 0-1.04.2-1.43.59L10.3 9.45l-7.72 7.72c-.78.78-.78 2.05 0 2.83L4 21.41c.39.39.9.59 1.41.59.51 0 1.02-.2 1.41-.59l7.78-7.78 2.81-2.81c.8-.78.8-2.07 0-2.86zM5.41 20L4 18.59l7.72-7.72 1.47 1.35L5.41 20z\"/>\n",
       "  </svg>\n",
       "      </button>\n",
       "      \n",
       "  <style>\n",
       "    .colab-df-container {\n",
       "      display:flex;\n",
       "      flex-wrap:wrap;\n",
       "      gap: 12px;\n",
       "    }\n",
       "\n",
       "    .colab-df-convert {\n",
       "      background-color: #E8F0FE;\n",
       "      border: none;\n",
       "      border-radius: 50%;\n",
       "      cursor: pointer;\n",
       "      display: none;\n",
       "      fill: #1967D2;\n",
       "      height: 32px;\n",
       "      padding: 0 0 0 0;\n",
       "      width: 32px;\n",
       "    }\n",
       "\n",
       "    .colab-df-convert:hover {\n",
       "      background-color: #E2EBFA;\n",
       "      box-shadow: 0px 1px 2px rgba(60, 64, 67, 0.3), 0px 1px 3px 1px rgba(60, 64, 67, 0.15);\n",
       "      fill: #174EA6;\n",
       "    }\n",
       "\n",
       "    [theme=dark] .colab-df-convert {\n",
       "      background-color: #3B4455;\n",
       "      fill: #D2E3FC;\n",
       "    }\n",
       "\n",
       "    [theme=dark] .colab-df-convert:hover {\n",
       "      background-color: #434B5C;\n",
       "      box-shadow: 0px 1px 3px 1px rgba(0, 0, 0, 0.15);\n",
       "      filter: drop-shadow(0px 1px 2px rgba(0, 0, 0, 0.3));\n",
       "      fill: #FFFFFF;\n",
       "    }\n",
       "  </style>\n",
       "\n",
       "      <script>\n",
       "        const buttonEl =\n",
       "          document.querySelector('#df-629a2225-b383-493f-add2-1d99a80e63a9 button.colab-df-convert');\n",
       "        buttonEl.style.display =\n",
       "          google.colab.kernel.accessAllowed ? 'block' : 'none';\n",
       "\n",
       "        async function convertToInteractive(key) {\n",
       "          const element = document.querySelector('#df-629a2225-b383-493f-add2-1d99a80e63a9');\n",
       "          const dataTable =\n",
       "            await google.colab.kernel.invokeFunction('convertToInteractive',\n",
       "                                                     [key], {});\n",
       "          if (!dataTable) return;\n",
       "\n",
       "          const docLinkHtml = 'Like what you see? Visit the ' +\n",
       "            '<a target=\"_blank\" href=https://colab.research.google.com/notebooks/data_table.ipynb>data table notebook</a>'\n",
       "            + ' to learn more about interactive tables.';\n",
       "          element.innerHTML = '';\n",
       "          dataTable['output_type'] = 'display_data';\n",
       "          await google.colab.output.renderOutput(dataTable, element);\n",
       "          const docLink = document.createElement('div');\n",
       "          docLink.innerHTML = docLinkHtml;\n",
       "          element.appendChild(docLink);\n",
       "        }\n",
       "      </script>\n",
       "    </div>\n",
       "  </div>\n",
       "  "
      ],
      "text/plain": [
       "         sleeping eating walking\n",
       "sleeping      0.4    0.2     0.4\n",
       "eating        0.4    0.4     0.2\n",
       "walking       0.4    0.2     0.4"
      ]
     },
     "execution_count": 5,
     "metadata": {},
     "output_type": "execute_result"
    }
   ],
   "source": [
    "q_df"
   ]
  },
  {
   "cell_type": "code",
   "execution_count": 6,
   "id": "74a017fc",
   "metadata": {
    "colab": {
     "base_uri": "https://localhost:8080/"
    },
    "id": "74a017fc",
    "outputId": "066a5fe5-66e0-41f9-a94c-ffb4965a5efe"
   },
   "outputs": [
    {
     "name": "stdout",
     "output_type": "stream",
     "text": [
      "\n",
      " [[0.4 0.2 0.4]\n",
      " [0.4 0.4 0.2]\n",
      " [0.4 0.2 0.4]] (3, 3) \n",
      "\n",
      "sleeping    1.0\n",
      "eating      1.0\n",
      "walking     1.0\n",
      "dtype: float64\n"
     ]
    }
   ],
   "source": [
    "q_f = q_df.values\n",
    "print('\\n', q_f, q_f.shape, '\\n')\n",
    "print(q_df.sum(axis=1))"
   ]
  },
  {
   "cell_type": "code",
   "execution_count": 7,
   "id": "f0213e62",
   "metadata": {
    "id": "f0213e62"
   },
   "outputs": [],
   "source": [
    "from pprint import pprint "
   ]
  },
  {
   "cell_type": "code",
   "execution_count": 12,
   "id": "80a0caff",
   "metadata": {
    "colab": {
     "base_uri": "https://localhost:8080/"
    },
    "id": "80a0caff",
    "outputId": "3be996c5-547d-4c95-d39d-27a07bd39330"
   },
   "outputs": [
    {
     "name": "stdout",
     "output_type": "stream",
     "text": [
      "{('eating', 'eating'): 0.4,\n",
      " ('eating', 'sleeping'): 0.4,\n",
      " ('eating', 'walking'): 0.2,\n",
      " ('sleeping', 'eating'): 0.2,\n",
      " ('sleeping', 'sleeping'): 0.4,\n",
      " ('sleeping', 'walking'): 0.4,\n",
      " ('walking', 'eating'): 0.2,\n",
      " ('walking', 'sleeping'): 0.4,\n",
      " ('walking', 'walking'): 0.4}\n"
     ]
    }
   ],
   "source": [
    "def _get_markov_edges(Q):\n",
    "    edge = {}\n",
    "    for column in Q.columns:\n",
    "        for index in Q.index:\n",
    "            edge[(index,column)] = Q.loc[index,column]\n",
    "    return edge\n",
    "\n",
    "edge_wt = _get_markov_edges(q_df)\n",
    "pprint(edge_wt)"
   ]
  },
  {
   "cell_type": "code",
   "execution_count": 9,
   "id": "bd9727b9",
   "metadata": {
    "colab": {
     "base_uri": "https://localhost:8080/"
    },
    "id": "bd9727b9",
    "outputId": "25c96377-f336-452e-dd2e-cc033c4244a5"
   },
   "outputs": [
    {
     "data": {
      "text/plain": [
       "dict_items([(6, 67), (7, 12), (9, 47)])"
      ]
     },
     "execution_count": 9,
     "metadata": {},
     "output_type": "execute_result"
    }
   ],
   "source": [
    "d = {6:67,7:12,9:47}\n",
    "d.items()"
   ]
  },
  {
   "cell_type": "code",
   "execution_count": 14,
   "id": "hpoCO3RxOnjo",
   "metadata": {
    "colab": {
     "base_uri": "https://localhost:8080/"
    },
    "id": "hpoCO3RxOnjo",
    "outputId": "4c66b0f3-0cb3-48a9-dd31-fa78066c97f5"
   },
   "outputs": [
    {
     "data": {
      "text/plain": [
       "dict_items([(('sleeping', 'sleeping'), 0.4), (('eating', 'sleeping'), 0.4), (('walking', 'sleeping'), 0.4), (('sleeping', 'eating'), 0.2), (('eating', 'eating'), 0.4), (('walking', 'eating'), 0.2), (('sleeping', 'walking'), 0.4), (('eating', 'walking'), 0.2), (('walking', 'walking'), 0.4)])"
      ]
     },
     "execution_count": 14,
     "metadata": {},
     "output_type": "execute_result"
    }
   ],
   "source": [
    "#use of .items returns key value pair in tuple and list of theta tuples\n",
    "\n",
    "_get_markov_edges(q_df).items()"
   ]
  },
  {
   "cell_type": "code",
   "execution_count": 15,
   "id": "ee0c6a4e",
   "metadata": {
    "id": "ee0c6a4e"
   },
   "outputs": [],
   "source": [
    "#Creating the graph objects\n",
    "\n",
    "Graph=nx.MultiDiGraph()"
   ]
  },
  {
   "cell_type": "code",
   "execution_count": 16,
   "id": "d5fcf29c",
   "metadata": {
    "colab": {
     "base_uri": "https://localhost:8080/"
    },
    "id": "d5fcf29c",
    "outputId": "5d3d3df3-2f64-466c-aa77-05ebf70a49aa"
   },
   "outputs": [
    {
     "name": "stdout",
     "output_type": "stream",
     "text": [
      "Nodes:\n",
      "['sleeping', 'eating', 'walking']\n",
      "\n"
     ]
    }
   ],
   "source": [
    "#Add state to graph\n",
    "\n",
    "Graph.add_nodes_from(states)\n",
    "print(f'Nodes:\\n{Graph.nodes()}\\n')"
   ]
  },
  {
   "cell_type": "code",
   "execution_count": 17,
   "id": "44106d0a",
   "metadata": {
    "id": "44106d0a"
   },
   "outputs": [],
   "source": [
    "from pprint import pprint"
   ]
  },
  {
   "cell_type": "code",
   "execution_count": 18,
   "id": "7893dd9e",
   "metadata": {
    "colab": {
     "base_uri": "https://localhost:8080/"
    },
    "id": "7893dd9e",
    "outputId": "a50d19c8-1c3b-4dc6-a4eb-3ce6b5185106"
   },
   "outputs": [
    {
     "name": "stdout",
     "output_type": "stream",
     "text": [
      "Edges:\n",
      "OutMultiEdgeDataView([('sleeping', 'sleeping', {'weight': 0.4, 'label': 0.4}), ('sleeping', 'eating', {'weight': 0.2, 'label': 0.2}), ('sleeping', 'walking', {'weight': 0.4, 'label': 0.4}), ('eating', 'sleeping', {'weight': 0.4, 'label': 0.4}), ('eating', 'eating', {'weight': 0.4, 'label': 0.4}), ('eating', 'walking', {'weight': 0.2, 'label': 0.2}), ('walking', 'sleeping', {'weight': 0.4, 'label': 0.4}), ('walking', 'eating', {'weight': 0.2, 'label': 0.2}), ('walking', 'walking', {'weight': 0.4, 'label': 0.4})])\n"
     ]
    }
   ],
   "source": [
    "for k, v in edge_wt.items():\n",
    "    tmp_origin, tmp_destination = k[0], k[1]\n",
    "    Graph.add_edge(tmp_origin, tmp_destination, weight=v, label=v)\n",
    "print(f'Edges:')\n",
    "pprint(Graph.edges(data=True)) "
   ]
  },
  {
   "cell_type": "code",
   "execution_count": 19,
   "id": "68f1c973",
   "metadata": {
    "id": "68f1c973"
   },
   "outputs": [],
   "source": [
    "import pydotplus , pydot"
   ]
  },
  {
   "cell_type": "code",
   "execution_count": 20,
   "id": "f1675420",
   "metadata": {
    "colab": {
     "base_uri": "https://localhost:8080/",
     "height": 248
    },
    "id": "f1675420",
    "outputId": "badeb52e-45ba-471a-ae95-21aee2da8600"
   },
   "outputs": [
    {
     "data": {
      "image/png": "[encoded data removed]",
      "text/plain": [
       "<Figure size 432x288 with 1 Axes>"
      ]
     },
     "metadata": {},
     "output_type": "display_data"
    }
   ],
   "source": [
    "\n",
    "position = nx.drawing.nx_pydot.graphviz_layout(Graph, prog='dot')\n",
    "nx.draw_networkx(Graph, position)\n",
    "\n",
    "edge_labels = {(n1,n2):d['label'] for n1,n2,d in Graph.edges(data=True)}\n",
    "nx.draw_networkx_edge_labels(Graph , position, edge_labels=edge_labels)\n",
    "nx.drawing.nx_pydot.write_dot(Graph, 'my_markov.dot')"
   ]
  },
  {
   "cell_type": "code",
   "execution_count": 21,
   "id": "bcd80deb",
   "metadata": {
    "colab": {
     "base_uri": "https://localhost:8080/"
    },
    "id": "bcd80deb",
    "outputId": "c45657c1-037a-49e7-a328-af78eec788aa"
   },
   "outputs": [
    {
     "name": "stdout",
     "output_type": "stream",
     "text": [
      "healthy    0.55\n",
      "sick       0.45\n",
      "Name: states, dtype: float64\n",
      "\n",
      " 1.0\n"
     ]
    }
   ],
   "source": [
    "hidden_State = ['healthy','sick']\n",
    "pi = [0.55,0.45]\n",
    "state_space = pd.Series(pi , index = hidden_State,name = 'states')\n",
    "print(state_space)\n",
    "print('\\n',state_space.sum())"
   ]
  },
  {
   "cell_type": "code",
   "execution_count": 22,
   "id": "b06b5078",
   "metadata": {
    "id": "b06b5078"
   },
   "outputs": [],
   "source": [
    "a1_df = pd.DataFrame(columns=hidden_State,index = hidden_State)\n",
    "a1_df.loc[hidden_State[0]] = [0.7,0.3]\n",
    "a1_df.loc[hidden_State[1]] = [0.4,0.6]\n"
   ]
  },
  {
   "cell_type": "code",
   "execution_count": 23,
   "id": "e66d048a",
   "metadata": {
    "colab": {
     "base_uri": "https://localhost:8080/",
     "height": 112
    },
    "id": "e66d048a",
    "outputId": "e8ea5739-6ee0-4a97-adb0-89b608f59101"
   },
   "outputs": [
    {
     "data": {
      "text/html": [
       "\n",
       "  <div id=\"df-8ac5d302-32e6-4c0a-8b84-0c70aa87102c\">\n",
       "    <div class=\"colab-df-container\">\n",
       "      <div>\n",
       "<style scoped>\n",
       "    .dataframe tbody tr th:only-of-type {\n",
       "        vertical-align: middle;\n",
       "    }\n",
       "\n",
       "    .dataframe tbody tr th {\n",
       "        vertical-align: top;\n",
       "    }\n",
       "\n",
       "    .dataframe thead th {\n",
       "        text-align: right;\n",
       "    }\n",
       "</style>\n",
       "<table border=\"1\" class=\"dataframe\">\n",
       "  <thead>\n",
       "    <tr style=\"text-align: right;\">\n",
       "      <th></th>\n",
       "      <th>healthy</th>\n",
       "      <th>sick</th>\n",
       "    </tr>\n",
       "  </thead>\n",
       "  <tbody>\n",
       "    <tr>\n",
       "      <th>healthy</th>\n",
       "      <td>0.7</td>\n",
       "      <td>0.3</td>\n",
       "    </tr>\n",
       "    <tr>\n",
       "      <th>sick</th>\n",
       "      <td>0.4</td>\n",
       "      <td>0.6</td>\n",
       "    </tr>\n",
       "  </tbody>\n",
       "</table>\n",
       "</div>\n",
       "      <button class=\"colab-df-convert\" onclick=\"convertToInteractive('df-8ac5d302-32e6-4c0a-8b84-0c70aa87102c')\"\n",
       "              title=\"Convert this dataframe to an interactive table.\"\n",
       "              style=\"display:none;\">\n",
       "        \n",
       "  <svg xmlns=\"http://www.w3.org/2000/svg\" height=\"24px\"viewBox=\"0 0 24 24\"\n",
       "       width=\"24px\">\n",
       "    <path d=\"M0 0h24v24H0V0z\" fill=\"none\"/>\n",
       "    <path d=\"M18.56 5.44l.94 2.06.94-2.06 2.06-.94-2.06-.94-.94-2.06-.94 2.06-2.06.94zm-11 1L8.5 8.5l.94-2.06 2.06-.94-2.06-.94L8.5 2.5l-.94 2.06-2.06.94zm10 10l.94 2.06.94-2.06 2.06-.94-2.06-.94-.94-2.06-.94 2.06-2.06.94z\"/><path d=\"M17.41 7.96l-1.37-1.37c-.4-.4-.92-.59-1.43-.59-.52 0-1.04.2-1.43.59L10.3 9.45l-7.72 7.72c-.78.78-.78 2.05 0 2.83L4 21.41c.39.39.9.59 1.41.59.51 0 1.02-.2 1.41-.59l7.78-7.78 2.81-2.81c.8-.78.8-2.07 0-2.86zM5.41 20L4 18.59l7.72-7.72 1.47 1.35L5.41 20z\"/>\n",
       "  </svg>\n",
       "      </button>\n",
       "      \n",
       "  <style>\n",
       "    .colab-df-container {\n",
       "      display:flex;\n",
       "      flex-wrap:wrap;\n",
       "      gap: 12px;\n",
       "    }\n",
       "\n",
       "    .colab-df-convert {\n",
       "      background-color: #E8F0FE;\n",
       "      border: none;\n",
       "      border-radius: 50%;\n",
       "      cursor: pointer;\n",
       "      display: none;\n",
       "      fill: #1967D2;\n",
       "      height: 32px;\n",
       "      padding: 0 0 0 0;\n",
       "      width: 32px;\n",
       "    }\n",
       "\n",
       "    .colab-df-convert:hover {\n",
       "      background-color: #E2EBFA;\n",
       "      box-shadow: 0px 1px 2px rgba(60, 64, 67, 0.3), 0px 1px 3px 1px rgba(60, 64, 67, 0.15);\n",
       "      fill: #174EA6;\n",
       "    }\n",
       "\n",
       "    [theme=dark] .colab-df-convert {\n",
       "      background-color: #3B4455;\n",
       "      fill: #D2E3FC;\n",
       "    }\n",
       "\n",
       "    [theme=dark] .colab-df-convert:hover {\n",
       "      background-color: #434B5C;\n",
       "      box-shadow: 0px 1px 3px 1px rgba(0, 0, 0, 0.15);\n",
       "      filter: drop-shadow(0px 1px 2px rgba(0, 0, 0, 0.3));\n",
       "      fill: #FFFFFF;\n",
       "    }\n",
       "  </style>\n",
       "\n",
       "      <script>\n",
       "        const buttonEl =\n",
       "          document.querySelector('#df-8ac5d302-32e6-4c0a-8b84-0c70aa87102c button.colab-df-convert');\n",
       "        buttonEl.style.display =\n",
       "          google.colab.kernel.accessAllowed ? 'block' : 'none';\n",
       "\n",
       "        async function convertToInteractive(key) {\n",
       "          const element = document.querySelector('#df-8ac5d302-32e6-4c0a-8b84-0c70aa87102c');\n",
       "          const dataTable =\n",
       "            await google.colab.kernel.invokeFunction('convertToInteractive',\n",
       "                                                     [key], {});\n",
       "          if (!dataTable) return;\n",
       "\n",
       "          const docLinkHtml = 'Like what you see? Visit the ' +\n",
       "            '<a target=\"_blank\" href=https://colab.research.google.com/notebooks/data_table.ipynb>data table notebook</a>'\n",
       "            + ' to learn more about interactive tables.';\n",
       "          element.innerHTML = '';\n",
       "          dataTable['output_type'] = 'display_data';\n",
       "          await google.colab.output.renderOutput(dataTable, element);\n",
       "          const docLink = document.createElement('div');\n",
       "          docLink.innerHTML = docLinkHtml;\n",
       "          element.appendChild(docLink);\n",
       "        }\n",
       "      </script>\n",
       "    </div>\n",
       "  </div>\n",
       "  "
      ],
      "text/plain": [
       "        healthy sick\n",
       "healthy     0.7  0.3\n",
       "sick        0.4  0.6"
      ]
     },
     "execution_count": 23,
     "metadata": {},
     "output_type": "execute_result"
    }
   ],
   "source": [
    "a1_df"
   ]
  },
  {
   "cell_type": "code",
   "execution_count": 24,
   "id": "e0cf43e0",
   "metadata": {
    "id": "e0cf43e0"
   },
   "outputs": [],
   "source": [
    "def _get_marcov_edges(Q):\n",
    "    edge={}\n",
    "    for column in Q.columns:\n",
    "        for index in Q.index:\n",
    "            edge[(index,column)]=Q.loc[index,column]\n",
    "            \n",
    "    return edge"
   ]
  },
  {
   "cell_type": "code",
   "execution_count": 25,
   "id": "241f4c00",
   "metadata": {
    "colab": {
     "base_uri": "https://localhost:8080/"
    },
    "id": "241f4c00",
    "outputId": "ef84a0a3-53e1-413d-c77f-8657295e5d43"
   },
   "outputs": [
    {
     "data": {
      "text/plain": [
       "{('healthy', 'healthy'): 0.7,\n",
       " ('sick', 'healthy'): 0.4,\n",
       " ('healthy', 'sick'): 0.3,\n",
       " ('sick', 'sick'): 0.6}"
      ]
     },
     "execution_count": 25,
     "metadata": {},
     "output_type": "execute_result"
    }
   ],
   "source": [
    "edge_wt1 = _get_marcov_edges(a1_df)\n",
    "edge_wt1"
   ]
  },
  {
   "cell_type": "code",
   "execution_count": 26,
   "id": "371851ac",
   "metadata": {
    "colab": {
     "base_uri": "https://localhost:8080/"
    },
    "id": "371851ac",
    "outputId": "ce118d31-a3fa-48c5-db57-f9245bd25f2b"
   },
   "outputs": [
    {
     "data": {
      "text/plain": [
       "dict_items([(('healthy', 'healthy'), 0.7), (('sick', 'healthy'), 0.4), (('healthy', 'sick'), 0.3), (('sick', 'sick'), 0.6)])"
      ]
     },
     "execution_count": 26,
     "metadata": {},
     "output_type": "execute_result"
    }
   ],
   "source": [
    "#use of .items returns key value pair in tuple and list of theta tuples\n",
    "_get_marcov_edges(a1_df).items()"
   ]
  },
  {
   "cell_type": "code",
   "execution_count": 27,
   "id": "8800ca5f",
   "metadata": {
    "id": "8800ca5f"
   },
   "outputs": [],
   "source": [
    "#Creating the graph objects\n",
    "Graph=nx.MultiDiGraph()"
   ]
  },
  {
   "cell_type": "code",
   "execution_count": 28,
   "id": "a2b99c23",
   "metadata": {
    "colab": {
     "base_uri": "https://localhost:8080/"
    },
    "id": "a2b99c23",
    "outputId": "879cb393-1224-48de-e028-6c1195b055d0"
   },
   "outputs": [
    {
     "name": "stdout",
     "output_type": "stream",
     "text": [
      "Nodes:\n",
      "['healthy', 'sick']\n",
      "\n"
     ]
    }
   ],
   "source": [
    "#Add state to graph\n",
    "Graph.add_nodes_from(hidden_State)\n",
    "print(f'Nodes:\\n{Graph.nodes()}\\n')"
   ]
  },
  {
   "cell_type": "code",
   "execution_count": 29,
   "id": "f812572d",
   "metadata": {
    "id": "f812572d"
   },
   "outputs": [],
   "source": [
    "from pprint import pprint"
   ]
  },
  {
   "cell_type": "code",
   "execution_count": 30,
   "id": "36ec08c0",
   "metadata": {
    "colab": {
     "base_uri": "https://localhost:8080/"
    },
    "id": "36ec08c0",
    "outputId": "16a0ff8c-79b8-40e7-b2b2-d3242c29ffd8"
   },
   "outputs": [
    {
     "name": "stdout",
     "output_type": "stream",
     "text": [
      "Edges:\n",
      "OutMultiEdgeDataView([('healthy', 'healthy', {'weight': 0.7, 'label': 0.7}), ('healthy', 'sick', {'weight': 0.3, 'label': 0.3}), ('sick', 'healthy', {'weight': 0.4, 'label': 0.4}), ('sick', 'sick', {'weight': 0.6, 'label': 0.6})])\n"
     ]
    }
   ],
   "source": [
    "for k,v in edge_wt1.items():\n",
    "    tmp_origin,tmp_destination=k[0],k[1]\n",
    "    Graph.add_edge(tmp_origin,tmp_destination,weight=v,label=v)\n",
    "print(\"Edges:\")\n",
    "pprint(Graph.edges(data=True))"
   ]
  },
  {
   "cell_type": "code",
   "execution_count": 31,
   "id": "fd6af6fa",
   "metadata": {
    "colab": {
     "base_uri": "https://localhost:8080/",
     "height": 248
    },
    "id": "fd6af6fa",
    "outputId": "b617fead-2077-41be-ed0f-347c26d02f54"
   },
   "outputs": [
    {
     "data": {
      "image/png": "[encoded data removed]",
      "text/plain": [
       "<Figure size 432x288 with 1 Axes>"
      ]
     },
     "metadata": {},
     "output_type": "display_data"
    }
   ],
   "source": [
    "position = nx.drawing.nx_pydot.graphviz_layout(Graph, prog='dot')\n",
    "nx.draw_networkx(Graph, position)\n",
    "\n",
    "edge_labels = {(n1,n2):d['label'] for n1,n2,d in Graph.edges(data=True)}\n",
    "nx.draw_networkx_edge_labels(Graph , position, edge_labels=edge_labels)\n",
    "nx.drawing.nx_pydot.write_dot(Graph, 'my_markov.dot')"
   ]
  },
  {
   "cell_type": "code",
   "execution_count": null,
   "id": "qBKhFsPZPDDj",
   "metadata": {
    "id": "qBKhFsPZPDDj"
   },
   "outputs": [],
   "source": []
  }
 ],
 "metadata": {
  "colab": {
   "provenance": []
  },
  "kernelspec": {
   "display_name": "Python 3 (ipykernel)",
   "language": "python",
   "name": "python3"
  },
  "language_info": {
   "codemirror_mode": {
    "name": "ipython",
    "version": 3
   },
   "file_extension": ".py",
   "mimetype": "text/x-python",
   "name": "python",
   "nbconvert_exporter": "python",
   "pygments_lexer": "ipython3",
   "version": "3.9.13"
  }
 },
 "nbformat": 4,
 "nbformat_minor": 5
}
