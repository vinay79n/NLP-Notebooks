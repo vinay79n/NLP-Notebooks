{
 "cells": [
  {
   "cell_type": "code",
   "execution_count": 5,
   "id": "ea75c161",
   "metadata": {},
   "outputs": [],
   "source": [
    "from tkinter import *"
   ]
  },
  {
   "cell_type": "markdown",
   "id": "4aacae31",
   "metadata": {},
   "source": [
    "### Basic UI 1"
   ]
  },
  {
   "cell_type": "code",
   "execution_count": 13,
   "id": "3b2947b9",
   "metadata": {},
   "outputs": [],
   "source": [
    "top = tk.Tk()\n",
    "top.title(\"My Program\")\n",
    "l = Label(text=\"Hello World\")\n",
    "b = Button(text=\"Submit\")\n",
    "e = Entry()\n",
    "l.pack()\n",
    "b.pack()\n",
    "e.pack()\n",
    "\n",
    "top.mainloop()"
   ]
  },
  {
   "cell_type": "markdown",
   "id": "b53ab3db",
   "metadata": {},
   "source": [
    "### Basic UI 2"
   ]
  },
  {
   "cell_type": "code",
   "execution_count": 23,
   "id": "ef670063",
   "metadata": {},
   "outputs": [],
   "source": [
    "top = tk.Tk()\n",
    "top.title(\"My Program\")\n",
    "top.geometry('500x350')\n",
    "\n",
    "def show():\n",
    "    n = int(num.get())\n",
    "    Label(text = 'The Square is = ' + str(n * n)).place(x = 150 , y = 200)\n",
    "    \n",
    "\n",
    "num = IntVar()\n",
    "l = Label(text = 'Enter Number : ').place(x = 50, y =100)\n",
    "e = Entry(textvariable = num).place(x = 200, y = 100)\n",
    "b = Button(text = 'Submit',command = show).place(x = 150, y =150)\n",
    "\n",
    "top.mainloop()"
   ]
  },
  {
   "cell_type": "code",
   "execution_count": null,
   "id": "4c6d4eb5",
   "metadata": {},
   "outputs": [],
   "source": [
    "top = Tk()\n",
    "\n",
    "top.title('My Program')\n",
    "top.geometry(\"500x350\")\n",
    "\n",
    "def show():\n",
    "    \n",
    "    # converting text to str type\n",
    "    msg = str(text.get())\n",
    "    \n",
    "    # predict on model\n",
    "    pred = model.predict(tfidf.transform([msg]))\n",
    "    \n",
    "    # printing prediction on UI\n",
    "    Label(text = f'Prediction is: {pred[0]}').place(x=150,y=200)\n",
    "\n",
    "\n",
    "text = StringVar()  # intvar ,doublevar, stringvar\n",
    "\n",
    "l = Label(text = \"Enter Message: \").place(x=100,y=100)\n",
    "e = Entry(textvariable=text).place(x=200,y=100)\n",
    "b = Button(text = \"Submit\", command=show).place(x=180,y=150)\n",
    "\n",
    "top.mainloop()"
   ]
  },
  {
   "cell_type": "code",
   "execution_count": null,
   "id": "62fe6490",
   "metadata": {},
   "outputs": [],
   "source": []
  },
  {
   "cell_type": "code",
   "execution_count": null,
   "id": "6864f7aa",
   "metadata": {},
   "outputs": [],
   "source": []
  }
 ],
 "metadata": {
  "kernelspec": {
   "display_name": "Python 3 (ipykernel)",
   "language": "python",
   "name": "python3"
  },
  "language_info": {
   "codemirror_mode": {
    "name": "ipython",
    "version": 3
   },
   "file_extension": ".py",
   "mimetype": "text/x-python",
   "name": "python",
   "nbconvert_exporter": "python",
   "pygments_lexer": "ipython3",
   "version": "3.9.13"
  }
 },
 "nbformat": 4,
 "nbformat_minor": 5
}
